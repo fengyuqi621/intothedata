{
  "nbformat": 4,
  "nbformat_minor": 0,
  "metadata": {
    "colab": {
      "name": "Lec5.ipynb",
      "provenance": [],
      "collapsed_sections": [],
      "toc_visible": true,
      "include_colab_link": true
    },
    "kernelspec": {
      "name": "python3",
      "display_name": "Python 3"
    }
  },
  "cells": [
    {
      "cell_type": "markdown",
      "metadata": {
        "id": "view-in-github",
        "colab_type": "text"
      },
      "source": [
        "<a href=\"https://colab.research.google.com/github/fengyuqi621/intothedata/blob/master/Lec5.ipynb\" target=\"_parent\"><img src=\"https://colab.research.google.com/assets/colab-badge.svg\" alt=\"Open In Colab\"/></a>"
      ]
    },
    {
      "cell_type": "markdown",
      "metadata": {
        "id": "sP0lkd-l6ZqH"
      },
      "source": [
        "# Jupyter Notebook\n",
        "\n",
        "While the `(WIP)` tag is above, we are working on updating this notebook to its finalized form.\n",
        "\n",
        "This is a Jupyter Notebook, which is a basically just a super fancy Python shell.\n",
        "\n",
        "You may have \"cells\" that can either be text (like this one) or executable Python code. Notebooks are really nice because they allow you to rapidly develop Python code by writing small bits of code, testing their output, and moving on to the next bit; this interactive nature of the notebook is a huge plus to professional Python developers. \n",
        "\n",
        "It's also nice, because it's really easy to share your code with others and surround it with text to tell a story! \n",
        "\n",
        "# Colaboratory\n",
        "Colaboratory is a service provided by Google to take a Jupyter Notebook (a standard formay of a `.ipynb` file) and let users edit/run the code in the notebook for free! \n",
        "\n",
        "This notebook is write-protected so you are not able to edit the  notebook that the whole class will look at, but you are able to open up the notebook in \"playground mode\" which lets you make edits to a temporary copy of the notebook. If you want to save the changes you made to this notebook, you will have to follow the instructions when you try to save to copy the notebook to your Google Drive. \n",
        "\n",
        "# Setup\n",
        "Make sure you run the following cell before trying to run any the following cells. You do not need to understand what they are doing, it's just a way to make sure there is a file we want to use stored on the computer running this notebook.\n"
      ]
    },
    {
      "cell_type": "code",
      "metadata": {
        "id": "xIXl9KBOxVKE"
      },
      "source": [
        "import requests\n",
        "\n",
        "def save_file(url, file_name):\n",
        "  r = requests.get(url)\n",
        "  with open(file_name, 'wb') as f:\n",
        "    f.write(r.content)\n",
        "\n",
        "save_file('https://courses.cs.washington.edu/courses/cse163/20wi/' +\n",
        "          'files/lectures/L04/mobydick.txt', 'mobydick.txt')\n",
        "save_file('https://courses.cs.washington.edu/courses/cse163/20wi/' +\n",
        "          'files/lectures/L04/bee-movie.txt', 'bee-movie.txt')\n",
        "save_file('https://courses.cs.washington.edu/courses/cse163/20wi/' +\n",
        "          'files/lectures/L05/tas.csv', 'tas.csv')\n",
        "save_file('https://courses.cs.washington.edu/courses/cse163/20wi/' +\n",
        "          'files/lectures/L05/earthquakes.csv', 'earthquakes.csv')\n",
        "save_file('https://courses.cs.washington.edu/courses/cse163/20wi/' +\n",
        "          'files/lectures/L05/cse163_utils.py', 'cse163_utils.py')"
      ],
      "execution_count": null,
      "outputs": []
    },
    {
      "cell_type": "markdown",
      "metadata": {
        "id": "lWvK9g9wCItD"
      },
      "source": [
        "# Review\n"
      ]
    },
    {
      "cell_type": "markdown",
      "metadata": {
        "id": "auXt3NjYnwz6"
      },
      "source": [
        "Last time we wrote this function to count the number of unique words that appear in a file. When we first wrote it using a list, it was way too slow on large files because the contains check for every word became incredibly slow as the list of unique words got larger. When using the new data structure set, it got much faster!"
      ]
    },
    {
      "cell_type": "code",
      "metadata": {
        "id": "tmgRzuuwl_mf"
      },
      "source": [
        "def count_unique(file_name):\n",
        "  \"\"\"\n",
        "  Returns the number of unique words in the file specified by file_name\n",
        "  \"\"\"\n",
        "  words = set()\n",
        "  with open(file_name) as file:\n",
        "    for line in file.readlines():\n",
        "      for word in line.split():\n",
        "        words.add(word)\n",
        "  return len(words)"
      ],
      "execution_count": null,
      "outputs": []
    },
    {
      "cell_type": "code",
      "metadata": {
        "id": "KU2b8iLv8IPX",
        "outputId": "82ed4281-acb8-456f-b0b1-bb31ffcf9d48",
        "colab": {
          "base_uri": "https://localhost:8080/",
          "height": 68
        }
      },
      "source": [
        "%%time\n",
        "print(count_unique('bee-movie.txt'))"
      ],
      "execution_count": null,
      "outputs": [
        {
          "output_type": "stream",
          "text": [
            "4104\n",
            "CPU times: user 4.18 ms, sys: 1.17 ms, total: 5.34 ms\n",
            "Wall time: 5.73 ms\n"
          ],
          "name": "stdout"
        }
      ]
    },
    {
      "cell_type": "code",
      "metadata": {
        "id": "696rlLs08Nst",
        "outputId": "6873066e-b745-47c5-b719-3cac1696bfee",
        "colab": {
          "base_uri": "https://localhost:8080/",
          "height": 68
        }
      },
      "source": [
        "%%time\n",
        "count_unique('mobydick.txt')"
      ],
      "execution_count": null,
      "outputs": [
        {
          "output_type": "stream",
          "text": [
            "CPU times: user 49.3 ms, sys: 2.66 ms, total: 52 ms\n",
            "Wall time: 53.4 ms\n"
          ],
          "name": "stdout"
        },
        {
          "output_type": "execute_result",
          "data": {
            "text/plain": [
              "32553"
            ]
          },
          "metadata": {
            "tags": []
          },
          "execution_count": 49
        }
      ]
    },
    {
      "cell_type": "markdown",
      "metadata": {
        "id": "SMCiCKNHJkkM"
      },
      "source": [
        "We also reviewed how we used a dictionary on Monday to count the number of words in a `list`. We then reviewed the extended version that did this over a file."
      ]
    },
    {
      "cell_type": "code",
      "metadata": {
        "id": "jPkqcBTUymjh",
        "outputId": "99c4e7a5-4cf6-4ea9-a301-5ef6fc3e35e5",
        "colab": {
          "base_uri": "https://localhost:8080/",
          "height": 170
        }
      },
      "source": [
        "words = ['I', 'saw', 'a', 'dog', 'today', 'I', 'thought', 'the', 'dog', 'was', 'cute']\n",
        "\n",
        "counts = dict()  # Make an empty dictionary\n",
        "for word in words:\n",
        "    if word in counts:  # If we have seen this word, increment count\n",
        "        counts[word] = counts[word] + 1\n",
        "    else:  # If we have not, start with a default value\n",
        "        counts[word] = 1\n",
        "\n",
        "counts"
      ],
      "execution_count": null,
      "outputs": [
        {
          "output_type": "execute_result",
          "data": {
            "text/plain": [
              "{'I': 2,\n",
              " 'a': 1,\n",
              " 'cute': 1,\n",
              " 'dog': 2,\n",
              " 'saw': 1,\n",
              " 'the': 1,\n",
              " 'thought': 1,\n",
              " 'today': 1,\n",
              " 'was': 1}"
            ]
          },
          "metadata": {
            "tags": []
          },
          "execution_count": 50
        }
      ]
    },
    {
      "cell_type": "code",
      "metadata": {
        "id": "n8D3tNpVCpao"
      },
      "source": [
        "def count_words(file_name):\n",
        "  \"\"\"\n",
        "  Counts the number of times each word in the file specified by file_name \n",
        "  appears in that file. Returns the counts as a dictionary with keys that\n",
        "  are words that map to the number of times that word appears in the file.\n",
        "  \"\"\"\n",
        "  counts = {}\n",
        "  with open(file_name) as file:\n",
        "    for line in file.readlines():\n",
        "      for word in line.split():\n",
        "        if word in counts:\n",
        "          counts[word] = counts[word] + 1\n",
        "        else: \n",
        "          counts[word] = 1\n",
        "  return counts"
      ],
      "execution_count": null,
      "outputs": []
    },
    {
      "cell_type": "code",
      "metadata": {
        "id": "c72kYgo0MH7S",
        "outputId": "d456ed3b-fb90-440a-b2ae-88e103b5fb3e",
        "colab": {
          "base_uri": "https://localhost:8080/",
          "height": 1000
        }
      },
      "source": [
        "counts = count_words('bee-movie.txt')\n",
        "counts"
      ],
      "execution_count": null,
      "outputs": [
        {
          "output_type": "execute_result",
          "data": {
            "text/plain": [
              "{'Scripts.com': 1,\n",
              " 'Bee': 17,\n",
              " 'Movie': 1,\n",
              " 'By': 1,\n",
              " 'Jerry': 1,\n",
              " 'Seinfeld': 1,\n",
              " 'NARRATOR:': 3,\n",
              " '(Black': 1,\n",
              " 'screen': 1,\n",
              " 'with': 76,\n",
              " 'text;': 1,\n",
              " 'The': 35,\n",
              " 'sound': 4,\n",
              " 'of': 197,\n",
              " 'buzzing': 2,\n",
              " 'bees': 25,\n",
              " 'can': 25,\n",
              " 'be': 51,\n",
              " 'heard)': 1,\n",
              " 'According': 1,\n",
              " 'to': 283,\n",
              " 'all': 55,\n",
              " 'known': 1,\n",
              " 'laws': 1,\n",
              " 'aviation,': 1,\n",
              " ':': 420,\n",
              " 'there': 15,\n",
              " 'is': 183,\n",
              " 'no': 28,\n",
              " 'way': 11,\n",
              " 'a': 365,\n",
              " 'bee': 35,\n",
              " 'should': 4,\n",
              " 'able': 3,\n",
              " 'fly.': 4,\n",
              " 'Its': 1,\n",
              " 'wings': 5,\n",
              " 'are': 88,\n",
              " 'too': 8,\n",
              " 'small': 7,\n",
              " 'get': 36,\n",
              " 'its': 5,\n",
              " 'fat': 4,\n",
              " 'little': 22,\n",
              " 'body': 4,\n",
              " 'off': 22,\n",
              " 'the': 516,\n",
              " 'ground.': 2,\n",
              " 'bee,': 10,\n",
              " 'course,': 1,\n",
              " 'flies': 31,\n",
              " 'anyway': 1,\n",
              " 'because': 9,\n",
              " \"don't\": 51,\n",
              " 'care': 1,\n",
              " 'what': 43,\n",
              " 'humans': 10,\n",
              " 'think': 25,\n",
              " 'impossible.': 1,\n",
              " 'BARRY': 3,\n",
              " 'BENSON:': 3,\n",
              " '(Barry': 84,\n",
              " 'picking': 2,\n",
              " 'out': 63,\n",
              " 'shirt)': 1,\n",
              " 'Yellow,': 4,\n",
              " 'black.': 4,\n",
              " 'Ooh,': 1,\n",
              " 'black': 3,\n",
              " 'and': 289,\n",
              " 'yellow!': 3,\n",
              " \"Let's\": 5,\n",
              " 'shake': 1,\n",
              " 'it': 103,\n",
              " 'up': 40,\n",
              " 'little.': 2,\n",
              " 'JANET': 1,\n",
              " 'Barry!': 10,\n",
              " 'Breakfast': 1,\n",
              " 'ready!': 2,\n",
              " 'BARRY:': 344,\n",
              " 'Coming!': 1,\n",
              " 'Hang': 2,\n",
              " 'on': 119,\n",
              " 'second.': 3,\n",
              " 'uses': 2,\n",
              " 'his': 62,\n",
              " 'antenna': 2,\n",
              " 'like': 39,\n",
              " 'phone)': 3,\n",
              " 'Hello?': 3,\n",
              " 'ADAM': 2,\n",
              " 'FLAYMAN:': 1,\n",
              " '(Through': 7,\n",
              " '-': 324,\n",
              " 'Barry?': 6,\n",
              " 'Adam?': 1,\n",
              " 'ADAM:': 100,\n",
              " 'Can': 10,\n",
              " 'you': 149,\n",
              " 'believe': 10,\n",
              " 'this': 64,\n",
              " 'happening?': 1,\n",
              " 'I': 238,\n",
              " \"can't.\": 4,\n",
              " \"I'll\": 11,\n",
              " 'pick': 8,\n",
              " 'up.': 8,\n",
              " 'down': 15,\n",
              " 'stairs)': 1,\n",
              " 'MARTIN': 1,\n",
              " 'Looking': 1,\n",
              " 'sharp.': 1,\n",
              " 'JANET:': 22,\n",
              " 'Use': 1,\n",
              " 'stairs.': 1,\n",
              " 'Your': 9,\n",
              " 'father': 1,\n",
              " 'paid': 1,\n",
              " 'good': 5,\n",
              " 'money': 1,\n",
              " 'for': 62,\n",
              " 'those.': 1,\n",
              " 'Sorry.': 2,\n",
              " \"I'm\": 79,\n",
              " 'excited.': 1,\n",
              " 'MARTIN:': 21,\n",
              " \"Here's\": 2,\n",
              " 'graduate.': 1,\n",
              " \"We're\": 22,\n",
              " 'very': 12,\n",
              " 'proud': 1,\n",
              " 'you,': 9,\n",
              " 'son.': 2,\n",
              " 'A': 16,\n",
              " 'perfect': 3,\n",
              " 'report': 2,\n",
              " 'card,': 1,\n",
              " \"B's.\": 1,\n",
              " 'Very': 3,\n",
              " 'proud.': 2,\n",
              " '(Rubs': 1,\n",
              " \"Barry's\": 4,\n",
              " 'hair)': 1,\n",
              " 'BARRY=': 3,\n",
              " 'Ma!': 1,\n",
              " 'got': 32,\n",
              " 'thing': 7,\n",
              " 'going': 21,\n",
              " 'here.': 11,\n",
              " 'You': 86,\n",
              " 'lint': 2,\n",
              " 'your': 66,\n",
              " 'fuzz.': 2,\n",
              " 'Ow!': 1,\n",
              " \"That's\": 34,\n",
              " 'me!': 11,\n",
              " 'Wave': 1,\n",
              " 'us!': 1,\n",
              " \"We'll\": 2,\n",
              " 'in': 170,\n",
              " 'row': 2,\n",
              " '118,000.': 1,\n",
              " 'Bye!': 1,\n",
              " 'door)': 6,\n",
              " 'Barry,': 17,\n",
              " 'told': 4,\n",
              " 'stop': 5,\n",
              " 'flying': 17,\n",
              " 'house!': 1,\n",
              " 'drives': 4,\n",
              " 'through': 14,\n",
              " 'hive,and': 1,\n",
              " 'waved': 1,\n",
              " 'at': 59,\n",
              " 'by': 25,\n",
              " 'Adam': 18,\n",
              " 'who': 18,\n",
              " 'reading': 1,\n",
              " 'newspaper)': 1,\n",
              " 'BARRY==': 7,\n",
              " 'Hey,': 13,\n",
              " 'Adam.': 2,\n",
              " 'Barry.': 12,\n",
              " '(Adam': 10,\n",
              " 'gets': 17,\n",
              " 'car)': 3,\n",
              " 'Is': 10,\n",
              " 'that': 71,\n",
              " 'fuzz': 1,\n",
              " 'gel?': 1,\n",
              " 'Special': 1,\n",
              " 'day,': 2,\n",
              " 'graduation.': 1,\n",
              " 'Never': 1,\n",
              " 'thought': 8,\n",
              " \"I'd\": 7,\n",
              " 'make': 19,\n",
              " 'it.': 36,\n",
              " 'pulls': 6,\n",
              " 'away': 8,\n",
              " 'from': 34,\n",
              " 'house': 2,\n",
              " 'continues': 1,\n",
              " 'driving)': 1,\n",
              " 'Three': 2,\n",
              " 'days': 3,\n",
              " 'grade': 1,\n",
              " 'school,': 1,\n",
              " 'three': 4,\n",
              " 'high': 3,\n",
              " 'school...': 1,\n",
              " 'Those': 4,\n",
              " 'were': 13,\n",
              " 'awkward.': 1,\n",
              " 'college.': 1,\n",
              " 'glad': 1,\n",
              " 'took': 2,\n",
              " 'day': 4,\n",
              " 'hitchhiked': 1,\n",
              " 'around': 14,\n",
              " 'hive.': 4,\n",
              " 'ADAM==': 7,\n",
              " 'did': 9,\n",
              " 'come': 6,\n",
              " 'back': 29,\n",
              " 'different.': 2,\n",
              " 'pass': 2,\n",
              " 'Artie,': 2,\n",
              " 'jogging)': 1,\n",
              " 'ARTIE:': 1,\n",
              " 'Hi,': 3,\n",
              " 'growing': 1,\n",
              " 'mustache?': 1,\n",
              " 'Looks': 1,\n",
              " 'good.': 4,\n",
              " 'Hear': 1,\n",
              " 'about': 25,\n",
              " 'Frankie?': 1,\n",
              " 'Yeah.': 10,\n",
              " 'funeral?': 1,\n",
              " 'No,': 13,\n",
              " 'not': 38,\n",
              " 'funeral.': 1,\n",
              " 'Everybody': 2,\n",
              " 'knows,': 1,\n",
              " 'sting': 8,\n",
              " 'someone,': 1,\n",
              " 'die.': 1,\n",
              " \"Don't\": 12,\n",
              " 'waste': 1,\n",
              " 'squirrel.': 1,\n",
              " 'Such': 1,\n",
              " 'hothead.': 1,\n",
              " 'guess': 5,\n",
              " 'he': 58,\n",
              " 'could': 23,\n",
              " 'have': 72,\n",
              " 'just': 47,\n",
              " 'gotten': 2,\n",
              " 'way.': 1,\n",
              " '(The': 46,\n",
              " 'car': 4,\n",
              " 'does': 8,\n",
              " 'barrel': 1,\n",
              " 'roll': 1,\n",
              " 'loop-shaped': 1,\n",
              " 'bridge': 1,\n",
              " 'lands': 6,\n",
              " 'highway)': 1,\n",
              " 'love': 5,\n",
              " 'incorporating': 1,\n",
              " 'an': 26,\n",
              " 'amusement': 1,\n",
              " 'park': 1,\n",
              " 'into': 55,\n",
              " 'our': 28,\n",
              " 'regular': 1,\n",
              " 'day.': 3,\n",
              " \"that's\": 9,\n",
              " 'why': 9,\n",
              " 'they': 37,\n",
              " 'say': 7,\n",
              " 'we': 67,\n",
              " 'need': 8,\n",
              " 'vacations.': 1,\n",
              " 'parallel': 1,\n",
              " 'parks': 1,\n",
              " 'together': 2,\n",
              " 'fly': 16,\n",
              " 'over': 18,\n",
              " 'graduating': 2,\n",
              " 'students)': 1,\n",
              " 'Boy,': 1,\n",
              " 'quite': 3,\n",
              " 'bit': 7,\n",
              " 'pomp...': 1,\n",
              " 'under': 5,\n",
              " 'circumstances.': 1,\n",
              " 'sit': 3,\n",
              " 'put': 9,\n",
              " 'their': 15,\n",
              " 'hats)': 1,\n",
              " 'Well,': 13,\n",
              " 'Adam,': 8,\n",
              " 'today': 1,\n",
              " 'men.': 1,\n",
              " 'We': 28,\n",
              " 'are!': 3,\n",
              " 'Bee-men.': 1,\n",
              " '=ADAM=': 1,\n",
              " 'Amen!': 1,\n",
              " 'AND': 5,\n",
              " 'Hallelujah!': 1,\n",
              " 'both': 5,\n",
              " 'happy': 3,\n",
              " 'spasm)': 1,\n",
              " 'ANNOUNCER:': 3,\n",
              " 'Students,': 1,\n",
              " 'faculty,': 1,\n",
              " 'distinguished': 1,\n",
              " 'bees,': 5,\n",
              " 'please': 4,\n",
              " 'welcome': 1,\n",
              " 'Dean': 1,\n",
              " 'Buzzwell.': 1,\n",
              " 'DEAN': 2,\n",
              " 'BUZZWELL:': 2,\n",
              " 'Welcome,': 1,\n",
              " 'New': 4,\n",
              " 'Hive': 3,\n",
              " 'Oity': 1,\n",
              " 'class': 1,\n",
              " 'of...': 1,\n",
              " '...9:': 1,\n",
              " 'That': 18,\n",
              " 'concludes': 1,\n",
              " 'ceremonies.': 1,\n",
              " 'And': 33,\n",
              " 'begins': 2,\n",
              " 'career': 1,\n",
              " 'Honex': 2,\n",
              " 'Industries!': 1,\n",
              " 'Will': 1,\n",
              " 'job': 9,\n",
              " 'today?': 1,\n",
              " 'Barry': 89,\n",
              " 'tour': 1,\n",
              " 'bus)': 1,\n",
              " 'heard': 9,\n",
              " \"it's\": 23,\n",
              " 'orientation.': 1,\n",
              " '(Tour': 1,\n",
              " 'buses': 1,\n",
              " 'rise': 1,\n",
              " 'ground': 2,\n",
              " 'students': 1,\n",
              " 'automatically': 2,\n",
              " 'loaded': 2,\n",
              " 'buses)': 1,\n",
              " 'TOUR': 8,\n",
              " 'GUIDE:': 7,\n",
              " 'Heads': 1,\n",
              " 'up!': 1,\n",
              " 'Here': 4,\n",
              " 'go.': 5,\n",
              " 'Keep': 1,\n",
              " 'hands': 7,\n",
              " 'antennas': 1,\n",
              " 'inside': 5,\n",
              " 'tram': 1,\n",
              " 'times.': 1,\n",
              " 'Wonder': 1,\n",
              " \"it'll\": 1,\n",
              " 'like?': 2,\n",
              " 'scary.': 1,\n",
              " 'GUIDE==': 1,\n",
              " 'Welcome': 1,\n",
              " 'Honex,': 2,\n",
              " 'division': 1,\n",
              " 'Honesco': 1,\n",
              " 'part': 6,\n",
              " 'Hexagon': 1,\n",
              " 'Group.': 1,\n",
              " 'Barry:': 4,\n",
              " 'This': 37,\n",
              " 'it!': 21,\n",
              " 'Wow.': 3,\n",
              " 'bus': 4,\n",
              " 'road': 2,\n",
              " 'either': 1,\n",
              " 'side': 3,\n",
              " \"Bee's\": 1,\n",
              " 'massive': 2,\n",
              " 'complicated': 1,\n",
              " 'Honey-making': 1,\n",
              " 'machines)': 1,\n",
              " 'know': 29,\n",
              " 'as': 23,\n",
              " 'worked': 1,\n",
              " 'whole': 9,\n",
              " 'life': 10,\n",
              " 'point': 2,\n",
              " 'where': 16,\n",
              " 'work': 17,\n",
              " 'life.': 8,\n",
              " 'Honey': 9,\n",
              " 'when': 3,\n",
              " 'valiant': 1,\n",
              " 'Pollen': 23,\n",
              " 'Jocks': 11,\n",
              " 'bring': 3,\n",
              " 'nectar': 5,\n",
              " 'Our': 7,\n",
              " 'top-secret': 1,\n",
              " 'formula': 1,\n",
              " 'color-corrected,': 1,\n",
              " 'scent-adjusted': 1,\n",
              " 'bubble-contoured': 1,\n",
              " 'soothing': 1,\n",
              " 'sweet': 3,\n",
              " 'syrup': 1,\n",
              " 'distinctive': 1,\n",
              " 'golden': 1,\n",
              " 'glow': 1,\n",
              " 'as...': 1,\n",
              " 'EVERYONE': 1,\n",
              " 'ON': 1,\n",
              " 'BUS:': 1,\n",
              " 'Honey!': 1,\n",
              " 'guide': 1,\n",
              " 'has': 17,\n",
              " 'been': 16,\n",
              " 'collecting': 1,\n",
              " 'honey': 38,\n",
              " 'bottle': 1,\n",
              " 'she': 10,\n",
              " 'throws': 1,\n",
              " 'crowd': 3,\n",
              " 'caught': 1,\n",
              " 'girl': 3,\n",
              " 'back)': 4,\n",
              " 'was': 49,\n",
              " 'hot.': 1,\n",
              " \"She's\": 3,\n",
              " 'my': 37,\n",
              " 'cousin!': 1,\n",
              " 'She': 4,\n",
              " 'is?': 4,\n",
              " 'Yes,': 13,\n",
              " \"we're\": 9,\n",
              " 'cousins.': 1,\n",
              " 'Right.': 6,\n",
              " \"You're\": 23,\n",
              " 'right.': 10,\n",
              " 'At': 4,\n",
              " 'constantly': 2,\n",
              " 'strive': 1,\n",
              " 'improve': 1,\n",
              " 'every': 7,\n",
              " 'aspect': 1,\n",
              " 'existence.': 1,\n",
              " 'These': 5,\n",
              " 'stress-testing': 1,\n",
              " 'new': 7,\n",
              " 'helmet': 2,\n",
              " 'technology.': 1,\n",
              " 'passes': 2,\n",
              " 'wearing': 7,\n",
              " 'being': 11,\n",
              " 'smashed': 1,\n",
              " 'fly-swatters,': 1,\n",
              " 'newspapers': 1,\n",
              " 'boots.': 2,\n",
              " 'He': 30,\n",
              " 'lifts': 2,\n",
              " 'thumbs': 1,\n",
              " 'but': 45,\n",
              " 'hear': 7,\n",
              " 'him': 19,\n",
              " 'groan)': 1,\n",
              " 'What': 46,\n",
              " 'do': 48,\n",
              " 'makes?': 1,\n",
              " 'Not': 10,\n",
              " 'enough.': 2,\n",
              " 'latest': 1,\n",
              " 'advancement,': 1,\n",
              " 'Krelman.': 1,\n",
              " '(They': 2,\n",
              " 'turning': 1,\n",
              " 'wheel': 1,\n",
              " 'Bees': 15,\n",
              " 'standing': 4,\n",
              " 'pegs,': 1,\n",
              " 'each': 3,\n",
              " 'finger-shaped': 1,\n",
              " 'hat)': 3,\n",
              " 'Wow,': 1,\n",
              " 'do?': 4,\n",
              " 'Catches': 1,\n",
              " 'strand': 1,\n",
              " 'hangs': 3,\n",
              " 'after': 6,\n",
              " 'pour': 1,\n",
              " 'Saves': 1,\n",
              " 'us': 7,\n",
              " 'millions.': 1,\n",
              " '(Intrigued)': 1,\n",
              " 'anyone': 2,\n",
              " 'Krelman?': 2,\n",
              " 'Of': 3,\n",
              " 'course.': 2,\n",
              " 'Most': 1,\n",
              " 'jobs': 3,\n",
              " 'ones.': 1,\n",
              " 'But': 18,\n",
              " 'job,': 1,\n",
              " 'if': 17,\n",
              " 'done': 5,\n",
              " 'well,': 5,\n",
              " 'means': 2,\n",
              " 'lot.': 1,\n",
              " 'choose': 1,\n",
              " 'carefully': 1,\n",
              " \"you'll\": 4,\n",
              " 'stay': 4,\n",
              " 'rest': 5,\n",
              " '(Everyone': 3,\n",
              " 'claps': 1,\n",
              " 'except': 3,\n",
              " 'Barry)': 27,\n",
              " 'same': 5,\n",
              " 'life?': 4,\n",
              " \"didn't\": 6,\n",
              " 'that.': 13,\n",
              " \"What's\": 8,\n",
              " 'difference?': 1,\n",
              " \"You'll\": 2,\n",
              " 'species,': 2,\n",
              " \"haven't\": 2,\n",
              " 'had': 12,\n",
              " 'one': 17,\n",
              " '27': 2,\n",
              " 'million': 3,\n",
              " 'years.': 2,\n",
              " '(Upset)': 1,\n",
              " 'So': 13,\n",
              " 'death?': 1,\n",
              " 'sure': 4,\n",
              " 'try.': 1,\n",
              " 'laughs': 2,\n",
              " 'walking': 4,\n",
              " 'home': 6,\n",
              " 'together)': 2,\n",
              " 'Wow!': 5,\n",
              " 'blew': 2,\n",
              " 'mind!': 1,\n",
              " '\"What\\'s': 1,\n",
              " 'difference?\"': 1,\n",
              " 'How': 21,\n",
              " 'that?': 15,\n",
              " 'One': 5,\n",
              " 'forever?': 1,\n",
              " 'insane': 1,\n",
              " 'choice': 1,\n",
              " 'make.': 1,\n",
              " 'relieved.': 1,\n",
              " 'Now': 6,\n",
              " 'only': 14,\n",
              " 'decision': 2,\n",
              " 'But,': 1,\n",
              " 'how': 12,\n",
              " 'never': 12,\n",
              " 'Why': 16,\n",
              " 'would': 12,\n",
              " 'question': 1,\n",
              " 'anything?': 1,\n",
              " 'bees.': 8,\n",
              " 'most': 1,\n",
              " 'perfectly': 1,\n",
              " 'functioning': 1,\n",
              " 'society': 1,\n",
              " 'Earth.': 2,\n",
              " 'ever': 6,\n",
              " 'maybe': 4,\n",
              " 'things': 2,\n",
              " 'well': 2,\n",
              " 'here?': 7,\n",
              " 'Like': 5,\n",
              " 'what?': 3,\n",
              " 'Give': 1,\n",
              " 'me': 15,\n",
              " 'example.': 1,\n",
              " 'revealed': 4,\n",
              " 'audience': 2,\n",
              " 'hundreds': 6,\n",
              " 'cars': 1,\n",
              " 'speeding': 1,\n",
              " 'narrowly': 3,\n",
              " 'missing': 2,\n",
              " 'them': 13,\n",
              " 'unison)': 1,\n",
              " 'know.': 13,\n",
              " 'talking': 20,\n",
              " 'about.': 2,\n",
              " 'Please': 1,\n",
              " 'clear': 1,\n",
              " 'gate.': 1,\n",
              " 'Royal': 1,\n",
              " 'Nectar': 2,\n",
              " 'Force': 1,\n",
              " 'approach.': 1,\n",
              " 'Wait': 7,\n",
              " 'Check': 2,\n",
              " 'out.': 14,\n",
              " 'jocks': 5,\n",
              " 'in,': 4,\n",
              " 'circle': 1,\n",
              " 'landing': 1,\n",
              " 'line)': 1,\n",
              " 'those': 8,\n",
              " 'Jocks!': 4,\n",
              " \"I've\": 12,\n",
              " 'seen': 3,\n",
              " 'close.': 2,\n",
              " 'They': 25,\n",
              " 'outside': 8,\n",
              " 'Yeah,': 13,\n",
              " 'some': 22,\n",
              " 'back.': 4,\n",
              " 'GIRL': 7,\n",
              " 'BEES:': 6,\n",
              " 'hook': 1,\n",
              " 'backpacks': 1,\n",
              " 'machines': 2,\n",
              " 'pump': 1,\n",
              " 'trucks,': 1,\n",
              " 'which': 9,\n",
              " 'drive': 3,\n",
              " 'away)': 5,\n",
              " 'LOU': 12,\n",
              " 'LO': 6,\n",
              " 'DUVA:': 12,\n",
              " 'guys': 1,\n",
              " 'great!': 2,\n",
              " 'monsters!': 1,\n",
              " 'sky': 1,\n",
              " 'freaks!': 1,\n",
              " '(Punching': 1,\n",
              " 'joy)': 1,\n",
              " 'wonder': 2,\n",
              " 'were.': 1,\n",
              " 'Their': 2,\n",
              " \"day's\": 1,\n",
              " 'planned.': 1,\n",
              " 'Outside': 1,\n",
              " 'hive,': 3,\n",
              " 'knows': 2,\n",
              " 'where,': 1,\n",
              " 'doing': 9,\n",
              " 'what.': 1,\n",
              " \"can't\": 21,\n",
              " 'decide': 2,\n",
              " 'Jock.': 2,\n",
              " 'bred': 1,\n",
              " 'covered': 2,\n",
              " 'pollen': 19,\n",
              " 'floated': 1,\n",
              " 'Jocks)': 1,\n",
              " 'Look': 7,\n",
              " 'more': 14,\n",
              " 'than': 12,\n",
              " 'will': 18,\n",
              " 'see': 35,\n",
              " 'lifetime.': 1,\n",
              " \"It's\": 50,\n",
              " 'status': 1,\n",
              " 'symbol.': 1,\n",
              " 'much': 11,\n",
              " 'Perhaps.': 1,\n",
              " 'Unless': 1,\n",
              " \"you're\": 17,\n",
              " 'ladies': 1,\n",
              " 'waves': 2,\n",
              " '2': 1,\n",
              " 'girls': 3,\n",
              " 'them)': 1,\n",
              " 'ladies?': 1,\n",
              " \"Aren't\": 1,\n",
              " 'cousins': 1,\n",
              " 'too?': 2,\n",
              " 'Distant.': 2,\n",
              " 'POLLEN': 43,\n",
              " 'JOCK': 36,\n",
              " '#1:': 25,\n",
              " 'these': 13,\n",
              " 'two.': 2,\n",
              " '#2:': 14,\n",
              " 'Couple': 2,\n",
              " 'Harrys.': 1,\n",
              " 'fun': 1,\n",
              " 'them.': 5,\n",
              " 'BEE': 23,\n",
              " 'It': 22,\n",
              " 'must': 4,\n",
              " 'dangerous': 1,\n",
              " 'Once': 3,\n",
              " 'bear': 7,\n",
              " 'pinned': 1,\n",
              " 'against': 4,\n",
              " 'mushroom!': 1,\n",
              " 'paw': 1,\n",
              " 'throat,': 1,\n",
              " 'other,': 1,\n",
              " 'slapping': 1,\n",
              " '(Slaps': 3,\n",
              " 'hand': 10,\n",
              " 'represent': 1,\n",
              " 'scenario)': 1,\n",
              " 'Oh,': 34,\n",
              " 'my!': 2,\n",
              " 'knock': 1,\n",
              " '(Looking': 4,\n",
              " 'Adam)': 3,\n",
              " 'during': 3,\n",
              " 'this?': 7,\n",
              " 'Obviously': 1,\n",
              " 'trying': 6,\n",
              " 'alert': 1,\n",
              " 'authorities.': 1,\n",
              " 'autograph': 1,\n",
              " 'walk': 4,\n",
              " 'pretend': 1,\n",
              " 'really': 11,\n",
              " 'jocks.)': 1,\n",
              " 'gusty': 1,\n",
              " 'today,': 2,\n",
              " \"wasn't\": 2,\n",
              " 'it,': 9,\n",
              " 'comrades?': 1,\n",
              " 'Gusty.': 1,\n",
              " 'hitting': 1,\n",
              " 'sunflower': 2,\n",
              " 'patch': 2,\n",
              " 'six': 1,\n",
              " 'miles': 1,\n",
              " 'here': 8,\n",
              " 'tomorrow.': 1,\n",
              " 'Six': 1,\n",
              " 'miles,': 1,\n",
              " 'huh?': 1,\n",
              " 'puddle': 1,\n",
              " 'jump': 2,\n",
              " 'us,': 3,\n",
              " 'Maybe': 8,\n",
              " 'am.': 2,\n",
              " 'not!': 2,\n",
              " '0900': 2,\n",
              " 'J-Gate.': 1,\n",
              " 'think,': 3,\n",
              " 'buzzy-boy?': 1,\n",
              " 'Are': 11,\n",
              " 'enough?': 1,\n",
              " 'might': 1,\n",
              " 'be.': 1,\n",
              " 'depends': 1,\n",
              " 'means.': 1,\n",
              " 'scene': 10,\n",
              " 'cuts': 2,\n",
              " 'looking': 2,\n",
              " 'hive-city': 1,\n",
              " 'balcony': 1,\n",
              " 'night)': 2,\n",
              " 'Honex!': 1,\n",
              " 'Dad,': 3,\n",
              " 'surprised': 1,\n",
              " 'me.': 18,\n",
              " 'interested': 1,\n",
              " 'in?': 1,\n",
              " \"there's\": 8,\n",
              " 'lot': 9,\n",
              " 'choices.': 1,\n",
              " 'one.': 5,\n",
              " 'Do': 10,\n",
              " 'bored': 1,\n",
              " 'day?': 1,\n",
              " 'Son,': 1,\n",
              " 'let': 5,\n",
              " 'tell': 3,\n",
              " 'stirring.': 3,\n",
              " 'grab': 3,\n",
              " 'stick,': 1,\n",
              " 'move': 3,\n",
              " 'around,': 2,\n",
              " 'stir': 1,\n",
              " 'around.': 4,\n",
              " 'yourself': 2,\n",
              " 'rhythm.': 1,\n",
              " 'beautiful': 1,\n",
              " 'thing.': 3,\n",
              " 'know,': 12,\n",
              " 'field': 1,\n",
              " \"isn't\": 8,\n",
              " 'right': 15,\n",
              " 'thinking': 7,\n",
              " 'what,': 1,\n",
              " 'making': 7,\n",
              " 'balloon': 2,\n",
              " 'animals?': 1,\n",
              " 'bad': 2,\n",
              " 'guy': 3,\n",
              " 'stinger.': 3,\n",
              " 'Janet,': 1,\n",
              " \"son's\": 1,\n",
              " 'wants': 2,\n",
              " 'go': 14,\n",
              " 'honey!': 3,\n",
              " 'so': 21,\n",
              " 'funny': 2,\n",
              " 'sometimes.': 1,\n",
              " 'funny.': 3,\n",
              " 'funny!': 1,\n",
              " 'honey.': 4,\n",
              " 'son,': 2,\n",
              " 'stirrer!': 1,\n",
              " 'gonna': 11,\n",
              " 'stirrer?': 1,\n",
              " 'No': 8,\n",
              " \"one's\": 4,\n",
              " 'listening': 2,\n",
              " 'till': 1,\n",
              " 'sticks': 3,\n",
              " 'have.': 2,\n",
              " 'anything': 5,\n",
              " 'now.': 4,\n",
              " 'ant': 1,\n",
              " 'tattoo!': 1,\n",
              " \"(Barry's\": 2,\n",
              " 'parents': 3,\n",
              " 'listen': 1,\n",
              " 'continue': 1,\n",
              " 'ramble': 1,\n",
              " 'on)': 2,\n",
              " 'open': 3,\n",
              " 'celebrate!': 1,\n",
              " 'pierce': 1,\n",
              " 'thorax.': 1,\n",
              " 'Shave': 1,\n",
              " 'antennae.': 1,\n",
              " 'Shack': 1,\n",
              " 'grasshopper.': 1,\n",
              " 'Get': 7,\n",
              " 'gold': 1,\n",
              " 'tooth': 1,\n",
              " 'call': 5,\n",
              " 'everybody': 1,\n",
              " '\"dawg\"!': 1,\n",
              " 'waiting': 2,\n",
              " 'line': 1,\n",
              " 'job)': 1,\n",
              " 'starting': 1,\n",
              " 'today!': 1,\n",
              " \"Today's\": 1,\n",
              " 'Come': 6,\n",
              " 'on!': 4,\n",
              " 'All': 24,\n",
              " 'gone.': 1,\n",
              " 'JOB': 7,\n",
              " 'LISTER:': 7,\n",
              " 'counting,': 1,\n",
              " 'stunt': 2,\n",
              " 'pouring,': 1,\n",
              " 'stirrer,': 2,\n",
              " 'front': 5,\n",
              " 'desk,': 1,\n",
              " 'hair': 3,\n",
              " 'removal...': 1,\n",
              " 'IN': 14,\n",
              " 'FRONT': 2,\n",
              " 'OF': 3,\n",
              " 'LINE:': 2,\n",
              " 'still': 10,\n",
              " 'available?': 2,\n",
              " 'on.': 5,\n",
              " 'Two': 3,\n",
              " 'left!': 1,\n",
              " \"them's\": 1,\n",
              " 'yours!': 1,\n",
              " 'Congratulations!': 1,\n",
              " 'Step': 1,\n",
              " 'side.': 2,\n",
              " \"What'd\": 2,\n",
              " 'get?': 1,\n",
              " 'Picking': 1,\n",
              " 'crud': 2,\n",
              " 'Stellar!': 1,\n",
              " '(He': 3,\n",
              " 'walks': 16,\n",
              " 'newbies?': 1,\n",
              " 'sir!': 2,\n",
              " 'first': 6,\n",
              " 'day!': 1,\n",
              " 'Make': 3,\n",
              " 'choice.': 2,\n",
              " 'look': 9,\n",
              " 'board.': 2,\n",
              " 'There': 4,\n",
              " 'changing': 1,\n",
              " 'panels': 1,\n",
              " 'contain': 1,\n",
              " 'available': 2,\n",
              " 'or': 10,\n",
              " 'unavailable': 1,\n",
              " 'jobs.': 2,\n",
              " 'looks': 22,\n",
              " 'confusing)': 1,\n",
              " 'want': 17,\n",
              " 'first?': 1,\n",
              " 'my.': 4,\n",
              " 'Restroom': 1,\n",
              " \"attendant's\": 1,\n",
              " 'open,': 1,\n",
              " 'reason': 2,\n",
              " 'think.': 1,\n",
              " 'Any': 1,\n",
              " 'chance': 3,\n",
              " 'getting': 11,\n",
              " 'Sure,': 2,\n",
              " '(Puts': 3,\n",
              " 'Krelman': 6,\n",
              " 'finger-hat': 1,\n",
              " \"Adam's\": 3,\n",
              " 'head)': 4,\n",
              " '(Suddenly': 3,\n",
              " 'sign': 2,\n",
              " 'closes': 2,\n",
              " 'out)': 8,\n",
              " 'sorry,': 3,\n",
              " 'closed': 2,\n",
              " '(Takes': 1,\n",
              " 'hat': 2,\n",
              " 'off)': 4,\n",
              " 'Wax': 1,\n",
              " \"monkey's\": 1,\n",
              " 'always': 2,\n",
              " 'open.': 2,\n",
              " 'opened': 1,\n",
              " 'again.': 2,\n",
              " 'happened?': 1,\n",
              " 'died.': 2,\n",
              " 'Makes': 1,\n",
              " 'opening.': 1,\n",
              " 'See?': 1,\n",
              " \"He's\": 13,\n",
              " 'dead.': 4,\n",
              " 'Another': 2,\n",
              " 'dead': 3,\n",
              " 'Deady.': 1,\n",
              " 'Deadified.': 1,\n",
              " 'Dead': 2,\n",
              " 'neck': 2,\n",
              " 'down.': 5,\n",
              " 'life!': 3,\n",
              " 'hard!': 1,\n",
              " 'remembers': 1,\n",
              " 'Jock': 1,\n",
              " 'offered': 1,\n",
              " 'Heating,': 1,\n",
              " 'cooling,': 2,\n",
              " 'pourer,': 1,\n",
              " 'humming,': 1,\n",
              " 'inspector': 1,\n",
              " 'number': 4,\n",
              " 'seven,': 1,\n",
              " 'coordinator,': 1,\n",
              " 'stripe': 1,\n",
              " 'supervisor,': 1,\n",
              " 'mite': 1,\n",
              " 'wrangler.': 1,\n",
              " 'should...': 1,\n",
              " 'turns': 6,\n",
              " 'sees': 10,\n",
              " 'JOCK:': 3,\n",
              " 'right,': 10,\n",
              " \"we've\": 2,\n",
              " 'quadrant': 1,\n",
              " 'nine...': 1,\n",
              " 'happened': 5,\n",
              " 'you?': 11,\n",
              " 'Where': 13,\n",
              " 'Out?': 1,\n",
              " 'Out': 3,\n",
              " 'where?': 1,\n",
              " 'there.': 8,\n",
              " 'no!': 4,\n",
              " 'to,': 1,\n",
              " 'before': 3,\n",
              " 'die!': 1,\n",
              " 'crazy!': 1,\n",
              " ...}"
            ]
          },
          "metadata": {
            "tags": []
          },
          "execution_count": 52
        }
      ]
    },
    {
      "cell_type": "code",
      "metadata": {
        "id": "x4SkSYGAMncL",
        "outputId": "76ddd738-6a89-4851-843f-221709012653",
        "colab": {
          "base_uri": "https://localhost:8080/",
          "height": 34
        }
      },
      "source": [
        "counts['bee']"
      ],
      "execution_count": null,
      "outputs": [
        {
          "output_type": "execute_result",
          "data": {
            "text/plain": [
              "35"
            ]
          },
          "metadata": {
            "tags": []
          },
          "execution_count": 53
        }
      ]
    },
    {
      "cell_type": "markdown",
      "metadata": {
        "id": "xN51HW5vvKYE"
      },
      "source": [
        "Starting with the code that we had from the warmup problem. We then wanted to loop over that dictionary to find the appear the appears most frequently. We saw that there are two\n",
        "ways that this is commonly done that keep track of different variables.\n",
        "\n"
      ]
    },
    {
      "cell_type": "code",
      "metadata": {
        "id": "MvenPIoDNGbN",
        "outputId": "37019606-8417-4bb4-f227-3c55d4cb71fb",
        "colab": {
          "base_uri": "https://localhost:8080/",
          "height": 34
        }
      },
      "source": [
        "def most_common_words(counts):\n",
        "    \"\"\"\n",
        "    Takes a dictionary of words counts (keys are words, values are counts)\n",
        "    and returns the word with the highest count. Returns None if there are \n",
        "    no words.\n",
        "    \"\"\"\n",
        "    max_word = None\n",
        "    for word in counts.keys():  # word is a key\n",
        "        if max_word is None or counts[word] > counts[max_word]:\n",
        "            max_word = word\n",
        "    return max_word\n",
        "\n",
        "most_common_words(counts)"
      ],
      "execution_count": null,
      "outputs": [
        {
          "output_type": "execute_result",
          "data": {
            "text/plain": [
              "'the'"
            ]
          },
          "metadata": {
            "tags": []
          },
          "execution_count": 54
        }
      ]
    },
    {
      "cell_type": "markdown",
      "metadata": {
        "id": "iQVDIbgeCton"
      },
      "source": [
        "# CSV\n",
        "We learned about CSV files and how one common way of representing the data in this file is a list of dictionaries.\n",
        "\n",
        "We talked about how the `parse` function was written by us and stored in this file `cse163_utils.py`. We talked about how to import a file and call a function from it."
      ]
    },
    {
      "cell_type": "code",
      "metadata": {
        "id": "O_LKbz4nCvV3",
        "outputId": "1a5a14c9-4047-4707-c303-9ccb59312e9f",
        "colab": {
          "base_uri": "https://localhost:8080/",
          "height": 68
        }
      },
      "source": [
        "import cse163_utils\n",
        "tas = cse163_utils.parse('tas.csv')\n",
        "tas"
      ],
      "execution_count": null,
      "outputs": [
        {
          "output_type": "execute_result",
          "data": {
            "text/plain": [
              "[{'Name': 'Flora', 'Salary': 3},\n",
              " {'Name': 'Ken', 'Salary': 1},\n",
              " {'Name': 'Ryan', 'Salary': 3}]"
            ]
          },
          "metadata": {
            "tags": []
          },
          "execution_count": 55
        }
      ]
    },
    {
      "cell_type": "markdown",
      "metadata": {
        "id": "yjxslZy3NP4k"
      },
      "source": [
        "We reviewed how the list of dictionaries works and the types of it and it's components. The `type` function lets us see the type of a value in Python."
      ]
    },
    {
      "cell_type": "code",
      "metadata": {
        "id": "iVohXTBYoGUw",
        "outputId": "eed0343a-b11b-4a92-e02f-6df6b452e992",
        "colab": {
          "base_uri": "https://localhost:8080/",
          "height": 68
        }
      },
      "source": [
        "print(type(tas))\n",
        "print(type(tas[0]))\n",
        "print(type(tas[0]['Name']))"
      ],
      "execution_count": null,
      "outputs": [
        {
          "output_type": "stream",
          "text": [
            "<class 'list'>\n",
            "<class 'dict'>\n",
            "<class 'str'>\n"
          ],
          "name": "stdout"
        }
      ]
    },
    {
      "cell_type": "markdown",
      "metadata": {
        "id": "V_t9Yo-gPcdu"
      },
      "source": [
        "We then reviewed code for how to loop over this list of dictionaries to compute something like a cumulative sum."
      ]
    },
    {
      "cell_type": "code",
      "metadata": {
        "id": "lQVZdXYsCwRO",
        "outputId": "39f4471c-8304-4c26-9a9c-16657409635f",
        "colab": {
          "base_uri": "https://localhost:8080/",
          "height": 34
        }
      },
      "source": [
        "total = 0\n",
        "# tas is a list\n",
        "for ta in tas:  # ta is dict\n",
        "  total += ta['Salary']\n",
        "print(total)"
      ],
      "execution_count": null,
      "outputs": [
        {
          "output_type": "stream",
          "text": [
            "7\n"
          ],
          "name": "stdout"
        }
      ]
    },
    {
      "cell_type": "markdown",
      "metadata": {
        "id": "WoYhX-eWUIiq"
      },
      "source": [
        "We then switched gears to using a larger, real-world dataset."
      ]
    },
    {
      "cell_type": "code",
      "metadata": {
        "id": "ZBhMf7vdCxw3",
        "outputId": "87ba2d7d-a211-4b3a-fcbe-912fe7607df6",
        "colab": {
          "base_uri": "https://localhost:8080/",
          "height": 697
        }
      },
      "source": [
        "earthquakes = cse163_utils.parse('earthquakes.csv')\n",
        "earthquakes[:5]"
      ],
      "execution_count": null,
      "outputs": [
        {
          "output_type": "execute_result",
          "data": {
            "text/plain": [
              "[{'day': 27,\n",
              "  'id': 'nc72666881',\n",
              "  'latitude': 37.6723333,\n",
              "  'longitude': -121.619,\n",
              "  'magnitude': 1.43,\n",
              "  'month': 7,\n",
              "  'name': 'California',\n",
              "  'year': 2016},\n",
              " {'day': 27,\n",
              "  'id': 'us20006i0y',\n",
              "  'latitude': 21.5146,\n",
              "  'longitude': 94.5721,\n",
              "  'magnitude': 4.9,\n",
              "  'month': 7,\n",
              "  'name': 'Burma',\n",
              "  'year': 2016},\n",
              " {'day': 27,\n",
              "  'id': 'nc72666891',\n",
              "  'latitude': 37.5765,\n",
              "  'longitude': -118.85916670000002,\n",
              "  'magnitude': 0.06,\n",
              "  'month': 7,\n",
              "  'name': 'California',\n",
              "  'year': 2016},\n",
              " {'day': 27,\n",
              "  'id': 'nc72666896',\n",
              "  'latitude': 37.595833299999995,\n",
              "  'longitude': -118.99483329999998,\n",
              "  'magnitude': 0.4,\n",
              "  'month': 7,\n",
              "  'name': 'California',\n",
              "  'year': 2016},\n",
              " {'day': 27,\n",
              "  'id': 'nn00553447',\n",
              "  'latitude': 39.3775,\n",
              "  'longitude': -119.845,\n",
              "  'magnitude': 0.3,\n",
              "  'month': 7,\n",
              "  'name': 'Nevada',\n",
              "  'year': 2016}]"
            ]
          },
          "metadata": {
            "tags": []
          },
          "execution_count": 58
        }
      ]
    },
    {
      "cell_type": "code",
      "metadata": {
        "id": "A0Ljw6SoCxua",
        "outputId": "13a51144-abad-4d79-bb41-c001c2a3c56c",
        "colab": {
          "base_uri": "https://localhost:8080/",
          "height": 34
        }
      },
      "source": [
        "len(earthquakes)"
      ],
      "execution_count": null,
      "outputs": [
        {
          "output_type": "execute_result",
          "data": {
            "text/plain": [
              "8394"
            ]
          },
          "metadata": {
            "tags": []
          },
          "execution_count": 59
        }
      ]
    },
    {
      "cell_type": "markdown",
      "metadata": {
        "id": "w8UfJj-VU0uD"
      },
      "source": [
        "We then showed how similar it is working with anoter dataset: most of the code is similar but we change up the column name. The following cell computes the total magnitude of all earthquakes."
      ]
    },
    {
      "cell_type": "code",
      "metadata": {
        "id": "AayL_11LCxmF",
        "outputId": "3d1934c7-50fa-4492-c61f-fcb24c482927",
        "colab": {
          "base_uri": "https://localhost:8080/",
          "height": 34
        }
      },
      "source": [
        "total = 0\n",
        "for earthquake in earthquakes:\n",
        "    total += earthquake['magnitude']\n",
        "total"
      ],
      "execution_count": null,
      "outputs": [
        {
          "output_type": "execute_result",
          "data": {
            "text/plain": [
              "12699.630000000005"
            ]
          },
          "metadata": {
            "tags": []
          },
          "execution_count": 60
        }
      ]
    },
    {
      "cell_type": "markdown",
      "metadata": {
        "id": "LSFJEHBZVB3R"
      },
      "source": [
        "Then students tried working on their own/in pairs to find the highest magnitude earthquake.\n",
        "\n",
        "Notice that this is slightly different than our code to find the most popular word. Instead of initializing the value to `None`, we initialize it to the first earthquake. Both approaches are totally valid, **but** the approach below needs to have a special case for if the list is empty. We said for this problem, it's fine to assume the list is non-empty, but this may or may not be true on your HW!"
      ]
    },
    {
      "cell_type": "code",
      "metadata": {
        "id": "0MWImsixpTcV",
        "outputId": "58c0e46a-b2cb-4fee-8bfa-693d7dbe70bf",
        "colab": {
          "base_uri": "https://localhost:8080/",
          "height": 34
        }
      },
      "source": [
        "# To find the earthquake with the highest magnitude\n",
        "max_eq = earthquakes[0]\n",
        "for earthquake in earthquakes:\n",
        "    if earthquake['magnitude'] > max_eq['magnitude']:\n",
        "        max_eq = earthquake\n",
        "print(max_eq)"
      ],
      "execution_count": null,
      "outputs": [
        {
          "output_type": "stream",
          "text": [
            "{'id': 'us100068jg', 'year': 2016, 'month': 7, 'day': 29, 'latitude': 18.5439, 'longitude': 145.541, 'name': 'Northern Mariana Islands', 'magnitude': 7.7}\n"
          ],
          "name": "stdout"
        }
      ]
    },
    {
      "cell_type": "markdown",
      "metadata": {
        "id": "N8Hgut57C5hc"
      },
      "source": [
        "# Pandas\n",
        "We then introduced the `pandas` library that was shown in the lecture reading and how to use it to read in a file."
      ]
    },
    {
      "cell_type": "code",
      "metadata": {
        "id": "jsWcBC4dC566"
      },
      "source": [
        "import pandas as pd  # this is just syntax to \"rename\" the \n",
        "                     # module so we don't have to say \"pandas.\" everywhere\n",
        "data = pd.read_csv('earthquakes.csv')"
      ],
      "execution_count": null,
      "outputs": []
    },
    {
      "cell_type": "markdown",
      "metadata": {
        "id": "PYlEZlytVbfz"
      },
      "source": [
        "`data` in this context is a `pandas` `DataFrame` (an object they wrote to represent tabular data)."
      ]
    },
    {
      "cell_type": "code",
      "metadata": {
        "id": "qaW1UeyVTJu8",
        "outputId": "9b522b24-0fd9-4d61-afa6-3844a2de675f",
        "colab": {
          "base_uri": "https://localhost:8080/",
          "height": 204
        }
      },
      "source": [
        "data.head()"
      ],
      "execution_count": null,
      "outputs": [
        {
          "output_type": "execute_result",
          "data": {
            "text/html": [
              "<div>\n",
              "<style scoped>\n",
              "    .dataframe tbody tr th:only-of-type {\n",
              "        vertical-align: middle;\n",
              "    }\n",
              "\n",
              "    .dataframe tbody tr th {\n",
              "        vertical-align: top;\n",
              "    }\n",
              "\n",
              "    .dataframe thead th {\n",
              "        text-align: right;\n",
              "    }\n",
              "</style>\n",
              "<table border=\"1\" class=\"dataframe\">\n",
              "  <thead>\n",
              "    <tr style=\"text-align: right;\">\n",
              "      <th></th>\n",
              "      <th>id</th>\n",
              "      <th>year</th>\n",
              "      <th>month</th>\n",
              "      <th>day</th>\n",
              "      <th>latitude</th>\n",
              "      <th>longitude</th>\n",
              "      <th>name</th>\n",
              "      <th>magnitude</th>\n",
              "    </tr>\n",
              "  </thead>\n",
              "  <tbody>\n",
              "    <tr>\n",
              "      <th>0</th>\n",
              "      <td>nc72666881</td>\n",
              "      <td>2016</td>\n",
              "      <td>7</td>\n",
              "      <td>27</td>\n",
              "      <td>37.672333</td>\n",
              "      <td>-121.619000</td>\n",
              "      <td>California</td>\n",
              "      <td>1.43</td>\n",
              "    </tr>\n",
              "    <tr>\n",
              "      <th>1</th>\n",
              "      <td>us20006i0y</td>\n",
              "      <td>2016</td>\n",
              "      <td>7</td>\n",
              "      <td>27</td>\n",
              "      <td>21.514600</td>\n",
              "      <td>94.572100</td>\n",
              "      <td>Burma</td>\n",
              "      <td>4.90</td>\n",
              "    </tr>\n",
              "    <tr>\n",
              "      <th>2</th>\n",
              "      <td>nc72666891</td>\n",
              "      <td>2016</td>\n",
              "      <td>7</td>\n",
              "      <td>27</td>\n",
              "      <td>37.576500</td>\n",
              "      <td>-118.859167</td>\n",
              "      <td>California</td>\n",
              "      <td>0.06</td>\n",
              "    </tr>\n",
              "    <tr>\n",
              "      <th>3</th>\n",
              "      <td>nc72666896</td>\n",
              "      <td>2016</td>\n",
              "      <td>7</td>\n",
              "      <td>27</td>\n",
              "      <td>37.595833</td>\n",
              "      <td>-118.994833</td>\n",
              "      <td>California</td>\n",
              "      <td>0.40</td>\n",
              "    </tr>\n",
              "    <tr>\n",
              "      <th>4</th>\n",
              "      <td>nn00553447</td>\n",
              "      <td>2016</td>\n",
              "      <td>7</td>\n",
              "      <td>27</td>\n",
              "      <td>39.377500</td>\n",
              "      <td>-119.845000</td>\n",
              "      <td>Nevada</td>\n",
              "      <td>0.30</td>\n",
              "    </tr>\n",
              "  </tbody>\n",
              "</table>\n",
              "</div>"
            ],
            "text/plain": [
              "           id  year  month  day   latitude   longitude        name  magnitude\n",
              "0  nc72666881  2016      7   27  37.672333 -121.619000  California       1.43\n",
              "1  us20006i0y  2016      7   27  21.514600   94.572100       Burma       4.90\n",
              "2  nc72666891  2016      7   27  37.576500 -118.859167  California       0.06\n",
              "3  nc72666896  2016      7   27  37.595833 -118.994833  California       0.40\n",
              "4  nn00553447  2016      7   27  39.377500 -119.845000      Nevada       0.30"
            ]
          },
          "metadata": {
            "tags": []
          },
          "execution_count": 63
        }
      ]
    },
    {
      "cell_type": "markdown",
      "metadata": {
        "id": "ZkQOpQDnVhNJ"
      },
      "source": [
        "Like we saw in the reading, we can index into the `DataFrame` using a column name to get a single column. The type of value returned here is a `pandas` `Series`! A `Series` has an index that lets you access any of its contents."
      ]
    },
    {
      "cell_type": "code",
      "metadata": {
        "id": "h53bLFPqTieT",
        "outputId": "8cfaa931-7b7f-44c8-93c3-36fc6da15c4a",
        "colab": {
          "base_uri": "https://localhost:8080/",
          "height": 221
        }
      },
      "source": [
        "data['name']"
      ],
      "execution_count": null,
      "outputs": [
        {
          "output_type": "execute_result",
          "data": {
            "text/plain": [
              "0       California\n",
              "1            Burma\n",
              "2       California\n",
              "3       California\n",
              "4           Nevada\n",
              "           ...    \n",
              "8389    California\n",
              "8390        Alaska\n",
              "8391    California\n",
              "8392    California\n",
              "8393    California\n",
              "Name: name, Length: 8394, dtype: object"
            ]
          },
          "metadata": {
            "tags": []
          },
          "execution_count": 64
        }
      ]
    },
    {
      "cell_type": "code",
      "metadata": {
        "id": "2CThuL5dT4rW",
        "outputId": "a6501fa2-7935-4dd9-fb1a-9a3b2665bac2",
        "colab": {
          "base_uri": "https://localhost:8080/",
          "height": 34
        }
      },
      "source": [
        "type(data['name'])"
      ],
      "execution_count": null,
      "outputs": [
        {
          "output_type": "execute_result",
          "data": {
            "text/plain": [
              "pandas.core.series.Series"
            ]
          },
          "metadata": {
            "tags": []
          },
          "execution_count": 65
        }
      ]
    },
    {
      "cell_type": "code",
      "metadata": {
        "id": "LXxULD-vshnu",
        "outputId": "233b206c-1593-4e60-9092-6465c9378b95",
        "colab": {
          "base_uri": "https://localhost:8080/",
          "height": 34
        }
      },
      "source": [
        "data['name'][140]"
      ],
      "execution_count": null,
      "outputs": [
        {
          "output_type": "execute_result",
          "data": {
            "text/plain": [
              "'California'"
            ]
          },
          "metadata": {
            "tags": []
          },
          "execution_count": 66
        }
      ]
    },
    {
      "cell_type": "markdown",
      "metadata": {
        "id": "TEzuS1r8VyGE"
      },
      "source": [
        "`Series` are powerful because they have a multitude of methods you can use on them to compute values."
      ]
    },
    {
      "cell_type": "code",
      "metadata": {
        "id": "2SmDMg9Es9E1",
        "outputId": "018c64ab-4724-4d93-a459-20bdfb29ddce",
        "colab": {
          "base_uri": "https://localhost:8080/",
          "height": 34
        }
      },
      "source": [
        "data['magnitude'].mean()"
      ],
      "execution_count": null,
      "outputs": [
        {
          "output_type": "execute_result",
          "data": {
            "text/plain": [
              "1.5129413867047896"
            ]
          },
          "metadata": {
            "tags": []
          },
          "execution_count": 67
        }
      ]
    },
    {
      "cell_type": "code",
      "metadata": {
        "id": "BtS61uBSV2kk",
        "outputId": "408f50b3-cc65-488b-bcc7-4623ffaa75cd",
        "colab": {
          "base_uri": "https://localhost:8080/",
          "height": 34
        }
      },
      "source": [
        "data['magnitude'].min()"
      ],
      "execution_count": null,
      "outputs": [
        {
          "output_type": "execute_result",
          "data": {
            "text/plain": [
              "0.01"
            ]
          },
          "metadata": {
            "tags": []
          },
          "execution_count": 68
        }
      ]
    },
    {
      "cell_type": "code",
      "metadata": {
        "id": "zA5qqfylV2eU",
        "outputId": "c5e0e1dc-dd68-485a-fb48-b8534c6b1ef9",
        "colab": {
          "base_uri": "https://localhost:8080/",
          "height": 34
        }
      },
      "source": [
        "data['magnitude'].max()"
      ],
      "execution_count": null,
      "outputs": [
        {
          "output_type": "execute_result",
          "data": {
            "text/plain": [
              "7.7"
            ]
          },
          "metadata": {
            "tags": []
          },
          "execution_count": 69
        }
      ]
    },
    {
      "cell_type": "markdown",
      "metadata": {
        "id": "Hcw2VkiKV5ef"
      },
      "source": [
        "`pandas` also supports arithmetic operations between `Series`. This is what we call a **vectorized** operation (where it lines the two `Series` up and does the `-` between)."
      ]
    },
    {
      "cell_type": "code",
      "metadata": {
        "id": "UqZnwcA7tFOa",
        "outputId": "045db8d0-3cc2-4131-c5d6-036a4a0ddeb2",
        "colab": {
          "base_uri": "https://localhost:8080/",
          "height": 221
        }
      },
      "source": [
        "data['longitude'] - data['latitude']"
      ],
      "execution_count": null,
      "outputs": [
        {
          "output_type": "execute_result",
          "data": {
            "text/plain": [
              "0      -159.291333\n",
              "1        73.057500\n",
              "2      -156.435667\n",
              "3      -156.590667\n",
              "4      -159.222500\n",
              "           ...    \n",
              "8389   -157.615330\n",
              "8390   -211.361100\n",
              "8391   -161.626503\n",
              "8392   -152.943333\n",
              "8393   -151.052833\n",
              "Length: 8394, dtype: float64"
            ]
          },
          "metadata": {
            "tags": []
          },
          "execution_count": 70
        }
      ]
    },
    {
      "cell_type": "markdown",
      "metadata": {
        "id": "TAprdmegWHXC"
      },
      "source": [
        "You can use almost any arithmetic operation on a `Series` (`+`, `-`, `*`, `/`, etc.). You still have to be concientious about types though. For example, the following cell breaks."
      ]
    },
    {
      "cell_type": "code",
      "metadata": {
        "id": "PYQKx3HAWG53",
        "outputId": "67e90078-a7f6-4882-c7aa-664a2f9a552f",
        "colab": {
          "base_uri": "https://localhost:8080/",
          "height": 426
        }
      },
      "source": [
        "data['name'] + data['longitude']"
      ],
      "execution_count": null,
      "outputs": [
        {
          "output_type": "error",
          "ename": "TypeError",
          "evalue": "ignored",
          "traceback": [
            "\u001b[0;31m---------------------------------------------------------------------------\u001b[0m",
            "\u001b[0;31mTypeError\u001b[0m                                 Traceback (most recent call last)",
            "\u001b[0;32m/usr/local/lib/python3.6/dist-packages/pandas/core/ops/__init__.py\u001b[0m in \u001b[0;36mna_op\u001b[0;34m(x, y)\u001b[0m\n\u001b[1;32m    967\u001b[0m         \u001b[0;32mtry\u001b[0m\u001b[0;34m:\u001b[0m\u001b[0;34m\u001b[0m\u001b[0;34m\u001b[0m\u001b[0m\n\u001b[0;32m--> 968\u001b[0;31m             \u001b[0mresult\u001b[0m \u001b[0;34m=\u001b[0m \u001b[0mexpressions\u001b[0m\u001b[0;34m.\u001b[0m\u001b[0mevaluate\u001b[0m\u001b[0;34m(\u001b[0m\u001b[0mop\u001b[0m\u001b[0;34m,\u001b[0m \u001b[0mstr_rep\u001b[0m\u001b[0;34m,\u001b[0m \u001b[0mx\u001b[0m\u001b[0;34m,\u001b[0m \u001b[0my\u001b[0m\u001b[0;34m,\u001b[0m \u001b[0;34m**\u001b[0m\u001b[0meval_kwargs\u001b[0m\u001b[0;34m)\u001b[0m\u001b[0;34m\u001b[0m\u001b[0;34m\u001b[0m\u001b[0m\n\u001b[0m\u001b[1;32m    969\u001b[0m         \u001b[0;32mexcept\u001b[0m \u001b[0mTypeError\u001b[0m\u001b[0;34m:\u001b[0m\u001b[0;34m\u001b[0m\u001b[0;34m\u001b[0m\u001b[0m\n",
            "\u001b[0;32m/usr/local/lib/python3.6/dist-packages/pandas/core/computation/expressions.py\u001b[0m in \u001b[0;36mevaluate\u001b[0;34m(op, op_str, a, b, use_numexpr, **eval_kwargs)\u001b[0m\n\u001b[1;32m    220\u001b[0m     \u001b[0;32mif\u001b[0m \u001b[0muse_numexpr\u001b[0m\u001b[0;34m:\u001b[0m\u001b[0;34m\u001b[0m\u001b[0;34m\u001b[0m\u001b[0m\n\u001b[0;32m--> 221\u001b[0;31m         \u001b[0;32mreturn\u001b[0m \u001b[0m_evaluate\u001b[0m\u001b[0;34m(\u001b[0m\u001b[0mop\u001b[0m\u001b[0;34m,\u001b[0m \u001b[0mop_str\u001b[0m\u001b[0;34m,\u001b[0m \u001b[0ma\u001b[0m\u001b[0;34m,\u001b[0m \u001b[0mb\u001b[0m\u001b[0;34m,\u001b[0m \u001b[0;34m**\u001b[0m\u001b[0meval_kwargs\u001b[0m\u001b[0;34m)\u001b[0m\u001b[0;34m\u001b[0m\u001b[0;34m\u001b[0m\u001b[0m\n\u001b[0m\u001b[1;32m    222\u001b[0m     \u001b[0;32mreturn\u001b[0m \u001b[0m_evaluate_standard\u001b[0m\u001b[0;34m(\u001b[0m\u001b[0mop\u001b[0m\u001b[0;34m,\u001b[0m \u001b[0mop_str\u001b[0m\u001b[0;34m,\u001b[0m \u001b[0ma\u001b[0m\u001b[0;34m,\u001b[0m \u001b[0mb\u001b[0m\u001b[0;34m)\u001b[0m\u001b[0;34m\u001b[0m\u001b[0;34m\u001b[0m\u001b[0m\n",
            "\u001b[0;32m/usr/local/lib/python3.6/dist-packages/pandas/core/computation/expressions.py\u001b[0m in \u001b[0;36m_evaluate_numexpr\u001b[0;34m(op, op_str, a, b, truediv, reversed, **eval_kwargs)\u001b[0m\n\u001b[1;32m    126\u001b[0m     \u001b[0;32mif\u001b[0m \u001b[0mresult\u001b[0m \u001b[0;32mis\u001b[0m \u001b[0;32mNone\u001b[0m\u001b[0;34m:\u001b[0m\u001b[0;34m\u001b[0m\u001b[0;34m\u001b[0m\u001b[0m\n\u001b[0;32m--> 127\u001b[0;31m         \u001b[0mresult\u001b[0m \u001b[0;34m=\u001b[0m \u001b[0m_evaluate_standard\u001b[0m\u001b[0;34m(\u001b[0m\u001b[0mop\u001b[0m\u001b[0;34m,\u001b[0m \u001b[0mop_str\u001b[0m\u001b[0;34m,\u001b[0m \u001b[0ma\u001b[0m\u001b[0;34m,\u001b[0m \u001b[0mb\u001b[0m\u001b[0;34m)\u001b[0m\u001b[0;34m\u001b[0m\u001b[0;34m\u001b[0m\u001b[0m\n\u001b[0m\u001b[1;32m    128\u001b[0m \u001b[0;34m\u001b[0m\u001b[0m\n",
            "\u001b[0;32m/usr/local/lib/python3.6/dist-packages/pandas/core/computation/expressions.py\u001b[0m in \u001b[0;36m_evaluate_standard\u001b[0;34m(op, op_str, a, b, **eval_kwargs)\u001b[0m\n\u001b[1;32m     69\u001b[0m     \u001b[0;32mwith\u001b[0m \u001b[0mnp\u001b[0m\u001b[0;34m.\u001b[0m\u001b[0merrstate\u001b[0m\u001b[0;34m(\u001b[0m\u001b[0mall\u001b[0m\u001b[0;34m=\u001b[0m\u001b[0;34m\"ignore\"\u001b[0m\u001b[0;34m)\u001b[0m\u001b[0;34m:\u001b[0m\u001b[0;34m\u001b[0m\u001b[0;34m\u001b[0m\u001b[0m\n\u001b[0;32m---> 70\u001b[0;31m         \u001b[0;32mreturn\u001b[0m \u001b[0mop\u001b[0m\u001b[0;34m(\u001b[0m\u001b[0ma\u001b[0m\u001b[0;34m,\u001b[0m \u001b[0mb\u001b[0m\u001b[0;34m)\u001b[0m\u001b[0;34m\u001b[0m\u001b[0;34m\u001b[0m\u001b[0m\n\u001b[0m\u001b[1;32m     71\u001b[0m \u001b[0;34m\u001b[0m\u001b[0m\n",
            "\u001b[0;31mTypeError\u001b[0m: must be str, not float",
            "\nDuring handling of the above exception, another exception occurred:\n",
            "\u001b[0;31mTypeError\u001b[0m                                 Traceback (most recent call last)",
            "\u001b[0;32m<ipython-input-71-bcc4f3439ddc>\u001b[0m in \u001b[0;36m<module>\u001b[0;34m()\u001b[0m\n\u001b[0;32m----> 1\u001b[0;31m \u001b[0mdata\u001b[0m\u001b[0;34m[\u001b[0m\u001b[0;34m'name'\u001b[0m\u001b[0;34m]\u001b[0m \u001b[0;34m+\u001b[0m \u001b[0mdata\u001b[0m\u001b[0;34m[\u001b[0m\u001b[0;34m'longitude'\u001b[0m\u001b[0;34m]\u001b[0m\u001b[0;34m\u001b[0m\u001b[0;34m\u001b[0m\u001b[0m\n\u001b[0m",
            "\u001b[0;32m/usr/local/lib/python3.6/dist-packages/pandas/core/ops/__init__.py\u001b[0m in \u001b[0;36mwrapper\u001b[0;34m(left, right)\u001b[0m\n\u001b[1;32m   1046\u001b[0m \u001b[0;34m\u001b[0m\u001b[0m\n\u001b[1;32m   1047\u001b[0m         \u001b[0;32mwith\u001b[0m \u001b[0mnp\u001b[0m\u001b[0;34m.\u001b[0m\u001b[0merrstate\u001b[0m\u001b[0;34m(\u001b[0m\u001b[0mall\u001b[0m\u001b[0;34m=\u001b[0m\u001b[0;34m\"ignore\"\u001b[0m\u001b[0;34m)\u001b[0m\u001b[0;34m:\u001b[0m\u001b[0;34m\u001b[0m\u001b[0;34m\u001b[0m\u001b[0m\n\u001b[0;32m-> 1048\u001b[0;31m             \u001b[0mresult\u001b[0m \u001b[0;34m=\u001b[0m \u001b[0mna_op\u001b[0m\u001b[0;34m(\u001b[0m\u001b[0mlvalues\u001b[0m\u001b[0;34m,\u001b[0m \u001b[0mrvalues\u001b[0m\u001b[0;34m)\u001b[0m\u001b[0;34m\u001b[0m\u001b[0;34m\u001b[0m\u001b[0m\n\u001b[0m\u001b[1;32m   1049\u001b[0m         return construct_result(\n\u001b[1;32m   1050\u001b[0m             \u001b[0mleft\u001b[0m\u001b[0;34m,\u001b[0m \u001b[0mresult\u001b[0m\u001b[0;34m,\u001b[0m \u001b[0mindex\u001b[0m\u001b[0;34m=\u001b[0m\u001b[0mleft\u001b[0m\u001b[0;34m.\u001b[0m\u001b[0mindex\u001b[0m\u001b[0;34m,\u001b[0m \u001b[0mname\u001b[0m\u001b[0;34m=\u001b[0m\u001b[0mres_name\u001b[0m\u001b[0;34m,\u001b[0m \u001b[0mdtype\u001b[0m\u001b[0;34m=\u001b[0m\u001b[0;32mNone\u001b[0m\u001b[0;34m\u001b[0m\u001b[0;34m\u001b[0m\u001b[0m\n",
            "\u001b[0;32m/usr/local/lib/python3.6/dist-packages/pandas/core/ops/__init__.py\u001b[0m in \u001b[0;36mna_op\u001b[0;34m(x, y)\u001b[0m\n\u001b[1;32m    968\u001b[0m             \u001b[0mresult\u001b[0m \u001b[0;34m=\u001b[0m \u001b[0mexpressions\u001b[0m\u001b[0;34m.\u001b[0m\u001b[0mevaluate\u001b[0m\u001b[0;34m(\u001b[0m\u001b[0mop\u001b[0m\u001b[0;34m,\u001b[0m \u001b[0mstr_rep\u001b[0m\u001b[0;34m,\u001b[0m \u001b[0mx\u001b[0m\u001b[0;34m,\u001b[0m \u001b[0my\u001b[0m\u001b[0;34m,\u001b[0m \u001b[0;34m**\u001b[0m\u001b[0meval_kwargs\u001b[0m\u001b[0;34m)\u001b[0m\u001b[0;34m\u001b[0m\u001b[0;34m\u001b[0m\u001b[0m\n\u001b[1;32m    969\u001b[0m         \u001b[0;32mexcept\u001b[0m \u001b[0mTypeError\u001b[0m\u001b[0;34m:\u001b[0m\u001b[0;34m\u001b[0m\u001b[0;34m\u001b[0m\u001b[0m\n\u001b[0;32m--> 970\u001b[0;31m             \u001b[0mresult\u001b[0m \u001b[0;34m=\u001b[0m \u001b[0mmasked_arith_op\u001b[0m\u001b[0;34m(\u001b[0m\u001b[0mx\u001b[0m\u001b[0;34m,\u001b[0m \u001b[0my\u001b[0m\u001b[0;34m,\u001b[0m \u001b[0mop\u001b[0m\u001b[0;34m)\u001b[0m\u001b[0;34m\u001b[0m\u001b[0;34m\u001b[0m\u001b[0m\n\u001b[0m\u001b[1;32m    971\u001b[0m \u001b[0;34m\u001b[0m\u001b[0m\n\u001b[1;32m    972\u001b[0m         \u001b[0;32mreturn\u001b[0m \u001b[0mmissing\u001b[0m\u001b[0;34m.\u001b[0m\u001b[0mdispatch_fill_zeros\u001b[0m\u001b[0;34m(\u001b[0m\u001b[0mop\u001b[0m\u001b[0;34m,\u001b[0m \u001b[0mx\u001b[0m\u001b[0;34m,\u001b[0m \u001b[0my\u001b[0m\u001b[0;34m,\u001b[0m \u001b[0mresult\u001b[0m\u001b[0;34m)\u001b[0m\u001b[0;34m\u001b[0m\u001b[0;34m\u001b[0m\u001b[0m\n",
            "\u001b[0;32m/usr/local/lib/python3.6/dist-packages/pandas/core/ops/__init__.py\u001b[0m in \u001b[0;36mmasked_arith_op\u001b[0;34m(x, y, op)\u001b[0m\n\u001b[1;32m    445\u001b[0m         \u001b[0;32mif\u001b[0m \u001b[0mmask\u001b[0m\u001b[0;34m.\u001b[0m\u001b[0many\u001b[0m\u001b[0;34m(\u001b[0m\u001b[0;34m)\u001b[0m\u001b[0;34m:\u001b[0m\u001b[0;34m\u001b[0m\u001b[0;34m\u001b[0m\u001b[0m\n\u001b[1;32m    446\u001b[0m             \u001b[0;32mwith\u001b[0m \u001b[0mnp\u001b[0m\u001b[0;34m.\u001b[0m\u001b[0merrstate\u001b[0m\u001b[0;34m(\u001b[0m\u001b[0mall\u001b[0m\u001b[0;34m=\u001b[0m\u001b[0;34m\"ignore\"\u001b[0m\u001b[0;34m)\u001b[0m\u001b[0;34m:\u001b[0m\u001b[0;34m\u001b[0m\u001b[0;34m\u001b[0m\u001b[0m\n\u001b[0;32m--> 447\u001b[0;31m                 \u001b[0mresult\u001b[0m\u001b[0;34m[\u001b[0m\u001b[0mmask\u001b[0m\u001b[0;34m]\u001b[0m \u001b[0;34m=\u001b[0m \u001b[0mop\u001b[0m\u001b[0;34m(\u001b[0m\u001b[0mxrav\u001b[0m\u001b[0;34m[\u001b[0m\u001b[0mmask\u001b[0m\u001b[0;34m]\u001b[0m\u001b[0;34m,\u001b[0m \u001b[0mcom\u001b[0m\u001b[0;34m.\u001b[0m\u001b[0mvalues_from_object\u001b[0m\u001b[0;34m(\u001b[0m\u001b[0myrav\u001b[0m\u001b[0;34m[\u001b[0m\u001b[0mmask\u001b[0m\u001b[0;34m]\u001b[0m\u001b[0;34m)\u001b[0m\u001b[0;34m)\u001b[0m\u001b[0;34m\u001b[0m\u001b[0;34m\u001b[0m\u001b[0m\n\u001b[0m\u001b[1;32m    448\u001b[0m \u001b[0;34m\u001b[0m\u001b[0m\n\u001b[1;32m    449\u001b[0m     \u001b[0;32melse\u001b[0m\u001b[0;34m:\u001b[0m\u001b[0;34m\u001b[0m\u001b[0;34m\u001b[0m\u001b[0m\n",
            "\u001b[0;31mTypeError\u001b[0m: must be str, not float"
          ]
        }
      ]
    },
    {
      "cell_type": "markdown",
      "metadata": {
        "id": "8h4wwZDpWSI8"
      },
      "source": [
        "We saw that we can also combine `Series` with simple values, like in the following cell that divides every entry in the `Series` by 2."
      ]
    },
    {
      "cell_type": "code",
      "metadata": {
        "id": "2zNloflcWXpv",
        "outputId": "909a15a8-08d9-481b-9758-5fa6e0e4d640",
        "colab": {
          "base_uri": "https://localhost:8080/",
          "height": 221
        }
      },
      "source": [
        "data['latitude'] / 2"
      ],
      "execution_count": null,
      "outputs": [
        {
          "output_type": "execute_result",
          "data": {
            "text/plain": [
              "0       18.836167\n",
              "1       10.757300\n",
              "2       18.788250\n",
              "3       18.797917\n",
              "4       19.688750\n",
              "          ...    \n",
              "8389    18.257750\n",
              "8390    30.749200\n",
              "8391    19.402500\n",
              "8392    17.154000\n",
              "8393    17.059583\n",
              "Name: latitude, Length: 8394, dtype: float64"
            ]
          },
          "metadata": {
            "tags": []
          },
          "execution_count": 72
        }
      ]
    },
    {
      "cell_type": "markdown",
      "metadata": {
        "id": "u1LevEpjWePo"
      },
      "source": [
        "You can also use comparisons to turn a `Series` into a `bool` `Series` where each element is `True`/`False` depending on how the original element compared."
      ]
    },
    {
      "cell_type": "code",
      "metadata": {
        "id": "oPnm3MV7Wi5z",
        "outputId": "2fca3233-bffd-4ff5-f2fe-b2308d4db57b",
        "colab": {
          "base_uri": "https://localhost:8080/",
          "height": 221
        }
      },
      "source": [
        "data['magnitude'] > 5"
      ],
      "execution_count": null,
      "outputs": [
        {
          "output_type": "execute_result",
          "data": {
            "text/plain": [
              "0       False\n",
              "1       False\n",
              "2       False\n",
              "3       False\n",
              "4       False\n",
              "        ...  \n",
              "8389    False\n",
              "8390    False\n",
              "8391    False\n",
              "8392    False\n",
              "8393    False\n",
              "Name: magnitude, Length: 8394, dtype: bool"
            ]
          },
          "metadata": {
            "tags": []
          },
          "execution_count": 73
        }
      ]
    },
    {
      "cell_type": "markdown",
      "metadata": {
        "id": "3H4mvS0TWiNU"
      },
      "source": [
        "We then saw that `pandas` lets us use this `bool` `Series` to index into the `DataFrame` to select which rows we want!"
      ]
    },
    {
      "cell_type": "code",
      "metadata": {
        "id": "-htVErD9Wzyy",
        "outputId": "3e34812c-1163-4936-d331-9a9a5f2fb92f",
        "colab": {
          "base_uri": "https://localhost:8080/",
          "height": 419
        }
      },
      "source": [
        "data[data['magnitude'] > 5]"
      ],
      "execution_count": null,
      "outputs": [
        {
          "output_type": "execute_result",
          "data": {
            "text/html": [
              "<div>\n",
              "<style scoped>\n",
              "    .dataframe tbody tr th:only-of-type {\n",
              "        vertical-align: middle;\n",
              "    }\n",
              "\n",
              "    .dataframe tbody tr th {\n",
              "        vertical-align: top;\n",
              "    }\n",
              "\n",
              "    .dataframe thead th {\n",
              "        text-align: right;\n",
              "    }\n",
              "</style>\n",
              "<table border=\"1\" class=\"dataframe\">\n",
              "  <thead>\n",
              "    <tr style=\"text-align: right;\">\n",
              "      <th></th>\n",
              "      <th>id</th>\n",
              "      <th>year</th>\n",
              "      <th>month</th>\n",
              "      <th>day</th>\n",
              "      <th>latitude</th>\n",
              "      <th>longitude</th>\n",
              "      <th>name</th>\n",
              "      <th>magnitude</th>\n",
              "    </tr>\n",
              "  </thead>\n",
              "  <tbody>\n",
              "    <tr>\n",
              "      <th>30</th>\n",
              "      <td>us20006i18</td>\n",
              "      <td>2016</td>\n",
              "      <td>7</td>\n",
              "      <td>27</td>\n",
              "      <td>-24.2860</td>\n",
              "      <td>-67.8647</td>\n",
              "      <td>Chile</td>\n",
              "      <td>5.6</td>\n",
              "    </tr>\n",
              "    <tr>\n",
              "      <th>114</th>\n",
              "      <td>us20006i35</td>\n",
              "      <td>2016</td>\n",
              "      <td>7</td>\n",
              "      <td>27</td>\n",
              "      <td>36.4922</td>\n",
              "      <td>140.7568</td>\n",
              "      <td>Japan</td>\n",
              "      <td>5.3</td>\n",
              "    </tr>\n",
              "    <tr>\n",
              "      <th>421</th>\n",
              "      <td>us1000683b</td>\n",
              "      <td>2016</td>\n",
              "      <td>7</td>\n",
              "      <td>28</td>\n",
              "      <td>-16.8242</td>\n",
              "      <td>-172.5158</td>\n",
              "      <td>Tonga</td>\n",
              "      <td>5.1</td>\n",
              "    </tr>\n",
              "    <tr>\n",
              "      <th>632</th>\n",
              "      <td>us100068b1</td>\n",
              "      <td>2016</td>\n",
              "      <td>7</td>\n",
              "      <td>29</td>\n",
              "      <td>0.0756</td>\n",
              "      <td>123.4162</td>\n",
              "      <td>Indonesia</td>\n",
              "      <td>5.4</td>\n",
              "    </tr>\n",
              "    <tr>\n",
              "      <th>799</th>\n",
              "      <td>us100068jg</td>\n",
              "      <td>2016</td>\n",
              "      <td>7</td>\n",
              "      <td>29</td>\n",
              "      <td>18.5439</td>\n",
              "      <td>145.5410</td>\n",
              "      <td>Northern Mariana Islands</td>\n",
              "      <td>7.7</td>\n",
              "    </tr>\n",
              "    <tr>\n",
              "      <th>...</th>\n",
              "      <td>...</td>\n",
              "      <td>...</td>\n",
              "      <td>...</td>\n",
              "      <td>...</td>\n",
              "      <td>...</td>\n",
              "      <td>...</td>\n",
              "      <td>...</td>\n",
              "      <td>...</td>\n",
              "    </tr>\n",
              "    <tr>\n",
              "      <th>7916</th>\n",
              "      <td>us10006g7d</td>\n",
              "      <td>2016</td>\n",
              "      <td>8</td>\n",
              "      <td>23</td>\n",
              "      <td>42.7140</td>\n",
              "      <td>13.1719</td>\n",
              "      <td>Italy</td>\n",
              "      <td>6.2</td>\n",
              "    </tr>\n",
              "    <tr>\n",
              "      <th>7926</th>\n",
              "      <td>us10006g7w</td>\n",
              "      <td>2016</td>\n",
              "      <td>8</td>\n",
              "      <td>23</td>\n",
              "      <td>42.8223</td>\n",
              "      <td>13.1257</td>\n",
              "      <td>Italy</td>\n",
              "      <td>5.5</td>\n",
              "    </tr>\n",
              "    <tr>\n",
              "      <th>8002</th>\n",
              "      <td>us10006gbf</td>\n",
              "      <td>2016</td>\n",
              "      <td>8</td>\n",
              "      <td>24</td>\n",
              "      <td>20.9192</td>\n",
              "      <td>94.5789</td>\n",
              "      <td>Burma</td>\n",
              "      <td>6.8</td>\n",
              "    </tr>\n",
              "    <tr>\n",
              "      <th>8029</th>\n",
              "      <td>us10006gf0</td>\n",
              "      <td>2016</td>\n",
              "      <td>8</td>\n",
              "      <td>24</td>\n",
              "      <td>-2.9567</td>\n",
              "      <td>100.0549</td>\n",
              "      <td>Indonesia</td>\n",
              "      <td>5.8</td>\n",
              "    </tr>\n",
              "    <tr>\n",
              "      <th>8303</th>\n",
              "      <td>us20006ty8</td>\n",
              "      <td>2016</td>\n",
              "      <td>8</td>\n",
              "      <td>25</td>\n",
              "      <td>30.6151</td>\n",
              "      <td>137.8462</td>\n",
              "      <td>Japan region</td>\n",
              "      <td>5.9</td>\n",
              "    </tr>\n",
              "  </tbody>\n",
              "</table>\n",
              "<p>100 rows × 8 columns</p>\n",
              "</div>"
            ],
            "text/plain": [
              "              id  year  month  ...  longitude                      name  magnitude\n",
              "30    us20006i18  2016      7  ...   -67.8647                     Chile        5.6\n",
              "114   us20006i35  2016      7  ...   140.7568                     Japan        5.3\n",
              "421   us1000683b  2016      7  ...  -172.5158                     Tonga        5.1\n",
              "632   us100068b1  2016      7  ...   123.4162                 Indonesia        5.4\n",
              "799   us100068jg  2016      7  ...   145.5410  Northern Mariana Islands        7.7\n",
              "...          ...   ...    ...  ...        ...                       ...        ...\n",
              "7916  us10006g7d  2016      8  ...    13.1719                     Italy        6.2\n",
              "7926  us10006g7w  2016      8  ...    13.1257                     Italy        5.5\n",
              "8002  us10006gbf  2016      8  ...    94.5789                     Burma        6.8\n",
              "8029  us10006gf0  2016      8  ...   100.0549                 Indonesia        5.8\n",
              "8303  us20006ty8  2016      8  ...   137.8462              Japan region        5.9\n",
              "\n",
              "[100 rows x 8 columns]"
            ]
          },
          "metadata": {
            "tags": []
          },
          "execution_count": 74
        }
      ]
    },
    {
      "cell_type": "markdown",
      "metadata": {
        "id": "9umEiUIOW2ZR"
      },
      "source": [
        "You can get more complicated by combining `bool` `Series` with `&` for \"and\", `|` for \"or\", and `~` for \"not. You have to be careful with parentheses though! With `pandas` you basically need to parenthesize all filter expressions. The following cell doesn't work but the one after does because of the parentheses."
      ]
    },
    {
      "cell_type": "code",
      "metadata": {
        "id": "8Qt3Ee8bXIdv",
        "outputId": "c821d876-7d66-4a6d-dc4b-bacb46cc4c92",
        "colab": {
          "base_uri": "https://localhost:8080/",
          "height": 545
        }
      },
      "source": [
        "data[data['magnitude'] > 5 & data['name'] == 'Japan']"
      ],
      "execution_count": null,
      "outputs": [
        {
          "output_type": "error",
          "ename": "TypeError",
          "evalue": "ignored",
          "traceback": [
            "\u001b[0;31m---------------------------------------------------------------------------\u001b[0m",
            "\u001b[0;31mTypeError\u001b[0m                                 Traceback (most recent call last)",
            "\u001b[0;32m/usr/local/lib/python3.6/dist-packages/pandas/core/ops/__init__.py\u001b[0m in \u001b[0;36mna_op\u001b[0;34m(x, y)\u001b[0m\n\u001b[1;32m   1253\u001b[0m         \u001b[0;32mtry\u001b[0m\u001b[0;34m:\u001b[0m\u001b[0;34m\u001b[0m\u001b[0;34m\u001b[0m\u001b[0m\n\u001b[0;32m-> 1254\u001b[0;31m             \u001b[0mresult\u001b[0m \u001b[0;34m=\u001b[0m \u001b[0mop\u001b[0m\u001b[0;34m(\u001b[0m\u001b[0mx\u001b[0m\u001b[0;34m,\u001b[0m \u001b[0my\u001b[0m\u001b[0;34m)\u001b[0m\u001b[0;34m\u001b[0m\u001b[0;34m\u001b[0m\u001b[0m\n\u001b[0m\u001b[1;32m   1255\u001b[0m         \u001b[0;32mexcept\u001b[0m \u001b[0mTypeError\u001b[0m\u001b[0;34m:\u001b[0m\u001b[0;34m\u001b[0m\u001b[0;34m\u001b[0m\u001b[0m\n",
            "\u001b[0;32m/usr/local/lib/python3.6/dist-packages/pandas/core/ops/roperator.py\u001b[0m in \u001b[0;36mrand_\u001b[0;34m(left, right)\u001b[0m\n\u001b[1;32m     52\u001b[0m \u001b[0;32mdef\u001b[0m \u001b[0mrand_\u001b[0m\u001b[0;34m(\u001b[0m\u001b[0mleft\u001b[0m\u001b[0;34m,\u001b[0m \u001b[0mright\u001b[0m\u001b[0;34m)\u001b[0m\u001b[0;34m:\u001b[0m\u001b[0;34m\u001b[0m\u001b[0;34m\u001b[0m\u001b[0m\n\u001b[0;32m---> 53\u001b[0;31m     \u001b[0;32mreturn\u001b[0m \u001b[0moperator\u001b[0m\u001b[0;34m.\u001b[0m\u001b[0mand_\u001b[0m\u001b[0;34m(\u001b[0m\u001b[0mright\u001b[0m\u001b[0;34m,\u001b[0m \u001b[0mleft\u001b[0m\u001b[0;34m)\u001b[0m\u001b[0;34m\u001b[0m\u001b[0;34m\u001b[0m\u001b[0m\n\u001b[0m\u001b[1;32m     54\u001b[0m \u001b[0;34m\u001b[0m\u001b[0m\n",
            "\u001b[0;31mTypeError\u001b[0m: unsupported operand type(s) for &: 'int' and 'str'",
            "\nDuring handling of the above exception, another exception occurred:\n",
            "\u001b[0;31mTypeError\u001b[0m                                 Traceback (most recent call last)",
            "\u001b[0;32m/usr/local/lib/python3.6/dist-packages/pandas/core/ops/__init__.py\u001b[0m in \u001b[0;36mna_op\u001b[0;34m(x, y)\u001b[0m\n\u001b[1;32m   1268\u001b[0m                 \u001b[0;32mtry\u001b[0m\u001b[0;34m:\u001b[0m\u001b[0;34m\u001b[0m\u001b[0;34m\u001b[0m\u001b[0m\n\u001b[0;32m-> 1269\u001b[0;31m                     \u001b[0mresult\u001b[0m \u001b[0;34m=\u001b[0m \u001b[0mlibops\u001b[0m\u001b[0;34m.\u001b[0m\u001b[0mscalar_binop\u001b[0m\u001b[0;34m(\u001b[0m\u001b[0mx\u001b[0m\u001b[0;34m,\u001b[0m \u001b[0my\u001b[0m\u001b[0;34m,\u001b[0m \u001b[0mop\u001b[0m\u001b[0;34m)\u001b[0m\u001b[0;34m\u001b[0m\u001b[0;34m\u001b[0m\u001b[0m\n\u001b[0m\u001b[1;32m   1270\u001b[0m                 except (\n",
            "\u001b[0;32mpandas/_libs/ops.pyx\u001b[0m in \u001b[0;36mpandas._libs.ops.scalar_binop\u001b[0;34m()\u001b[0m\n",
            "\u001b[0;32m/usr/local/lib/python3.6/dist-packages/pandas/core/ops/roperator.py\u001b[0m in \u001b[0;36mrand_\u001b[0;34m(left, right)\u001b[0m\n\u001b[1;32m     52\u001b[0m \u001b[0;32mdef\u001b[0m \u001b[0mrand_\u001b[0m\u001b[0;34m(\u001b[0m\u001b[0mleft\u001b[0m\u001b[0;34m,\u001b[0m \u001b[0mright\u001b[0m\u001b[0;34m)\u001b[0m\u001b[0;34m:\u001b[0m\u001b[0;34m\u001b[0m\u001b[0;34m\u001b[0m\u001b[0m\n\u001b[0;32m---> 53\u001b[0;31m     \u001b[0;32mreturn\u001b[0m \u001b[0moperator\u001b[0m\u001b[0;34m.\u001b[0m\u001b[0mand_\u001b[0m\u001b[0;34m(\u001b[0m\u001b[0mright\u001b[0m\u001b[0;34m,\u001b[0m \u001b[0mleft\u001b[0m\u001b[0;34m)\u001b[0m\u001b[0;34m\u001b[0m\u001b[0;34m\u001b[0m\u001b[0m\n\u001b[0m\u001b[1;32m     54\u001b[0m \u001b[0;34m\u001b[0m\u001b[0m\n",
            "\u001b[0;31mTypeError\u001b[0m: unsupported operand type(s) for &: 'bool' and 'str'",
            "\nDuring handling of the above exception, another exception occurred:\n",
            "\u001b[0;31mTypeError\u001b[0m                                 Traceback (most recent call last)",
            "\u001b[0;32m<ipython-input-75-8e217dbecb34>\u001b[0m in \u001b[0;36m<module>\u001b[0;34m()\u001b[0m\n\u001b[0;32m----> 1\u001b[0;31m \u001b[0mdata\u001b[0m\u001b[0;34m[\u001b[0m\u001b[0mdata\u001b[0m\u001b[0;34m[\u001b[0m\u001b[0;34m'magnitude'\u001b[0m\u001b[0;34m]\u001b[0m \u001b[0;34m>\u001b[0m \u001b[0;36m5\u001b[0m \u001b[0;34m&\u001b[0m \u001b[0mdata\u001b[0m\u001b[0;34m[\u001b[0m\u001b[0;34m'name'\u001b[0m\u001b[0;34m]\u001b[0m \u001b[0;34m==\u001b[0m \u001b[0;34m'Japan'\u001b[0m\u001b[0;34m]\u001b[0m\u001b[0;34m\u001b[0m\u001b[0;34m\u001b[0m\u001b[0m\n\u001b[0m",
            "\u001b[0;32m/usr/local/lib/python3.6/dist-packages/pandas/core/ops/__init__.py\u001b[0m in \u001b[0;36mwrapper\u001b[0;34m(self, other)\u001b[0m\n\u001b[1;32m   1319\u001b[0m         \u001b[0;31m#   integer dtypes.  Otherwise these are boolean ops\u001b[0m\u001b[0;34m\u001b[0m\u001b[0;34m\u001b[0m\u001b[0;34m\u001b[0m\u001b[0m\n\u001b[1;32m   1320\u001b[0m         \u001b[0mfiller\u001b[0m \u001b[0;34m=\u001b[0m \u001b[0mfill_int\u001b[0m \u001b[0;32mif\u001b[0m \u001b[0mis_self_int_dtype\u001b[0m \u001b[0;32mand\u001b[0m \u001b[0mis_other_int_dtype\u001b[0m \u001b[0;32melse\u001b[0m \u001b[0mfill_bool\u001b[0m\u001b[0;34m\u001b[0m\u001b[0;34m\u001b[0m\u001b[0m\n\u001b[0;32m-> 1321\u001b[0;31m         \u001b[0mres_values\u001b[0m \u001b[0;34m=\u001b[0m \u001b[0mna_op\u001b[0m\u001b[0;34m(\u001b[0m\u001b[0mself\u001b[0m\u001b[0;34m.\u001b[0m\u001b[0mvalues\u001b[0m\u001b[0;34m,\u001b[0m \u001b[0movalues\u001b[0m\u001b[0;34m)\u001b[0m\u001b[0;34m\u001b[0m\u001b[0;34m\u001b[0m\u001b[0m\n\u001b[0m\u001b[1;32m   1322\u001b[0m         \u001b[0munfilled\u001b[0m \u001b[0;34m=\u001b[0m \u001b[0mself\u001b[0m\u001b[0;34m.\u001b[0m\u001b[0m_constructor\u001b[0m\u001b[0;34m(\u001b[0m\u001b[0mres_values\u001b[0m\u001b[0;34m,\u001b[0m \u001b[0mindex\u001b[0m\u001b[0;34m=\u001b[0m\u001b[0mself\u001b[0m\u001b[0;34m.\u001b[0m\u001b[0mindex\u001b[0m\u001b[0;34m,\u001b[0m \u001b[0mname\u001b[0m\u001b[0;34m=\u001b[0m\u001b[0mres_name\u001b[0m\u001b[0;34m)\u001b[0m\u001b[0;34m\u001b[0m\u001b[0;34m\u001b[0m\u001b[0m\n\u001b[1;32m   1323\u001b[0m         \u001b[0mfilled\u001b[0m \u001b[0;34m=\u001b[0m \u001b[0mfiller\u001b[0m\u001b[0;34m(\u001b[0m\u001b[0munfilled\u001b[0m\u001b[0;34m)\u001b[0m\u001b[0;34m\u001b[0m\u001b[0;34m\u001b[0m\u001b[0m\n",
            "\u001b[0;32m/usr/local/lib/python3.6/dist-packages/pandas/core/ops/__init__.py\u001b[0m in \u001b[0;36mna_op\u001b[0;34m(x, y)\u001b[0m\n\u001b[1;32m   1278\u001b[0m                         \u001b[0;34m\"cannot compare a dtyped [{dtype}] array \"\u001b[0m\u001b[0;34m\u001b[0m\u001b[0;34m\u001b[0m\u001b[0m\n\u001b[1;32m   1279\u001b[0m                         \"with a scalar of type [{typ}]\".format(\n\u001b[0;32m-> 1280\u001b[0;31m                             \u001b[0mdtype\u001b[0m\u001b[0;34m=\u001b[0m\u001b[0mx\u001b[0m\u001b[0;34m.\u001b[0m\u001b[0mdtype\u001b[0m\u001b[0;34m,\u001b[0m \u001b[0mtyp\u001b[0m\u001b[0;34m=\u001b[0m\u001b[0mtype\u001b[0m\u001b[0;34m(\u001b[0m\u001b[0my\u001b[0m\u001b[0;34m)\u001b[0m\u001b[0;34m.\u001b[0m\u001b[0m__name__\u001b[0m\u001b[0;34m\u001b[0m\u001b[0;34m\u001b[0m\u001b[0m\n\u001b[0m\u001b[1;32m   1281\u001b[0m                         )\n\u001b[1;32m   1282\u001b[0m                     )\n",
            "\u001b[0;31mTypeError\u001b[0m: cannot compare a dtyped [object] array with a scalar of type [bool]"
          ]
        }
      ]
    },
    {
      "cell_type": "code",
      "metadata": {
        "id": "vqGvzos6tUoC",
        "outputId": "f2cc78f1-82cf-401c-f325-41f29f50cf59",
        "colab": {
          "base_uri": "https://localhost:8080/",
          "height": 419
        }
      },
      "source": [
        "data[(data['magnitude'] > 5) & ~(data['name'] == 'Japan')]"
      ],
      "execution_count": null,
      "outputs": [
        {
          "output_type": "execute_result",
          "data": {
            "text/html": [
              "<div>\n",
              "<style scoped>\n",
              "    .dataframe tbody tr th:only-of-type {\n",
              "        vertical-align: middle;\n",
              "    }\n",
              "\n",
              "    .dataframe tbody tr th {\n",
              "        vertical-align: top;\n",
              "    }\n",
              "\n",
              "    .dataframe thead th {\n",
              "        text-align: right;\n",
              "    }\n",
              "</style>\n",
              "<table border=\"1\" class=\"dataframe\">\n",
              "  <thead>\n",
              "    <tr style=\"text-align: right;\">\n",
              "      <th></th>\n",
              "      <th>id</th>\n",
              "      <th>year</th>\n",
              "      <th>month</th>\n",
              "      <th>day</th>\n",
              "      <th>latitude</th>\n",
              "      <th>longitude</th>\n",
              "      <th>name</th>\n",
              "      <th>magnitude</th>\n",
              "    </tr>\n",
              "  </thead>\n",
              "  <tbody>\n",
              "    <tr>\n",
              "      <th>30</th>\n",
              "      <td>us20006i18</td>\n",
              "      <td>2016</td>\n",
              "      <td>7</td>\n",
              "      <td>27</td>\n",
              "      <td>-24.2860</td>\n",
              "      <td>-67.8647</td>\n",
              "      <td>Chile</td>\n",
              "      <td>5.6</td>\n",
              "    </tr>\n",
              "    <tr>\n",
              "      <th>421</th>\n",
              "      <td>us1000683b</td>\n",
              "      <td>2016</td>\n",
              "      <td>7</td>\n",
              "      <td>28</td>\n",
              "      <td>-16.8242</td>\n",
              "      <td>-172.5158</td>\n",
              "      <td>Tonga</td>\n",
              "      <td>5.1</td>\n",
              "    </tr>\n",
              "    <tr>\n",
              "      <th>632</th>\n",
              "      <td>us100068b1</td>\n",
              "      <td>2016</td>\n",
              "      <td>7</td>\n",
              "      <td>29</td>\n",
              "      <td>0.0756</td>\n",
              "      <td>123.4162</td>\n",
              "      <td>Indonesia</td>\n",
              "      <td>5.4</td>\n",
              "    </tr>\n",
              "    <tr>\n",
              "      <th>799</th>\n",
              "      <td>us100068jg</td>\n",
              "      <td>2016</td>\n",
              "      <td>7</td>\n",
              "      <td>29</td>\n",
              "      <td>18.5439</td>\n",
              "      <td>145.5410</td>\n",
              "      <td>Northern Mariana Islands</td>\n",
              "      <td>7.7</td>\n",
              "    </tr>\n",
              "    <tr>\n",
              "      <th>835</th>\n",
              "      <td>us100068n4</td>\n",
              "      <td>2016</td>\n",
              "      <td>7</td>\n",
              "      <td>29</td>\n",
              "      <td>-20.7929</td>\n",
              "      <td>169.9542</td>\n",
              "      <td>Vanuatu</td>\n",
              "      <td>5.2</td>\n",
              "    </tr>\n",
              "    <tr>\n",
              "      <th>...</th>\n",
              "      <td>...</td>\n",
              "      <td>...</td>\n",
              "      <td>...</td>\n",
              "      <td>...</td>\n",
              "      <td>...</td>\n",
              "      <td>...</td>\n",
              "      <td>...</td>\n",
              "      <td>...</td>\n",
              "    </tr>\n",
              "    <tr>\n",
              "      <th>7916</th>\n",
              "      <td>us10006g7d</td>\n",
              "      <td>2016</td>\n",
              "      <td>8</td>\n",
              "      <td>23</td>\n",
              "      <td>42.7140</td>\n",
              "      <td>13.1719</td>\n",
              "      <td>Italy</td>\n",
              "      <td>6.2</td>\n",
              "    </tr>\n",
              "    <tr>\n",
              "      <th>7926</th>\n",
              "      <td>us10006g7w</td>\n",
              "      <td>2016</td>\n",
              "      <td>8</td>\n",
              "      <td>23</td>\n",
              "      <td>42.8223</td>\n",
              "      <td>13.1257</td>\n",
              "      <td>Italy</td>\n",
              "      <td>5.5</td>\n",
              "    </tr>\n",
              "    <tr>\n",
              "      <th>8002</th>\n",
              "      <td>us10006gbf</td>\n",
              "      <td>2016</td>\n",
              "      <td>8</td>\n",
              "      <td>24</td>\n",
              "      <td>20.9192</td>\n",
              "      <td>94.5789</td>\n",
              "      <td>Burma</td>\n",
              "      <td>6.8</td>\n",
              "    </tr>\n",
              "    <tr>\n",
              "      <th>8029</th>\n",
              "      <td>us10006gf0</td>\n",
              "      <td>2016</td>\n",
              "      <td>8</td>\n",
              "      <td>24</td>\n",
              "      <td>-2.9567</td>\n",
              "      <td>100.0549</td>\n",
              "      <td>Indonesia</td>\n",
              "      <td>5.8</td>\n",
              "    </tr>\n",
              "    <tr>\n",
              "      <th>8303</th>\n",
              "      <td>us20006ty8</td>\n",
              "      <td>2016</td>\n",
              "      <td>8</td>\n",
              "      <td>25</td>\n",
              "      <td>30.6151</td>\n",
              "      <td>137.8462</td>\n",
              "      <td>Japan region</td>\n",
              "      <td>5.9</td>\n",
              "    </tr>\n",
              "  </tbody>\n",
              "</table>\n",
              "<p>87 rows × 8 columns</p>\n",
              "</div>"
            ],
            "text/plain": [
              "              id  year  month  ...  longitude                      name  magnitude\n",
              "30    us20006i18  2016      7  ...   -67.8647                     Chile        5.6\n",
              "421   us1000683b  2016      7  ...  -172.5158                     Tonga        5.1\n",
              "632   us100068b1  2016      7  ...   123.4162                 Indonesia        5.4\n",
              "799   us100068jg  2016      7  ...   145.5410  Northern Mariana Islands        7.7\n",
              "835   us100068n4  2016      7  ...   169.9542                   Vanuatu        5.2\n",
              "...          ...   ...    ...  ...        ...                       ...        ...\n",
              "7916  us10006g7d  2016      8  ...    13.1719                     Italy        6.2\n",
              "7926  us10006g7w  2016      8  ...    13.1257                     Italy        5.5\n",
              "8002  us10006gbf  2016      8  ...    94.5789                     Burma        6.8\n",
              "8029  us10006gf0  2016      8  ...   100.0549                 Indonesia        5.8\n",
              "8303  us20006ty8  2016      8  ...   137.8462              Japan region        5.9\n",
              "\n",
              "[87 rows x 8 columns]"
            ]
          },
          "metadata": {
            "tags": []
          },
          "execution_count": 76
        }
      ]
    },
    {
      "cell_type": "markdown",
      "metadata": {
        "id": "cJHdce36XPTx"
      },
      "source": [
        "It's perhaps, much more readable if you break this long line into sub-expressions and store them with meaningful variable names."
      ]
    },
    {
      "cell_type": "code",
      "metadata": {
        "id": "Rexa17MittEO",
        "outputId": "1b9d7673-850d-400c-94ea-1de92f8d2e3d",
        "colab": {
          "base_uri": "https://localhost:8080/",
          "height": 419
        }
      },
      "source": [
        "is_big = data['magnitude'] > 5\n",
        "is_japan = data['name'] == 'Japan'\n",
        "data[is_big & ~is_japan]"
      ],
      "execution_count": null,
      "outputs": [
        {
          "output_type": "execute_result",
          "data": {
            "text/html": [
              "<div>\n",
              "<style scoped>\n",
              "    .dataframe tbody tr th:only-of-type {\n",
              "        vertical-align: middle;\n",
              "    }\n",
              "\n",
              "    .dataframe tbody tr th {\n",
              "        vertical-align: top;\n",
              "    }\n",
              "\n",
              "    .dataframe thead th {\n",
              "        text-align: right;\n",
              "    }\n",
              "</style>\n",
              "<table border=\"1\" class=\"dataframe\">\n",
              "  <thead>\n",
              "    <tr style=\"text-align: right;\">\n",
              "      <th></th>\n",
              "      <th>id</th>\n",
              "      <th>year</th>\n",
              "      <th>month</th>\n",
              "      <th>day</th>\n",
              "      <th>latitude</th>\n",
              "      <th>longitude</th>\n",
              "      <th>name</th>\n",
              "      <th>magnitude</th>\n",
              "    </tr>\n",
              "  </thead>\n",
              "  <tbody>\n",
              "    <tr>\n",
              "      <th>30</th>\n",
              "      <td>us20006i18</td>\n",
              "      <td>2016</td>\n",
              "      <td>7</td>\n",
              "      <td>27</td>\n",
              "      <td>-24.2860</td>\n",
              "      <td>-67.8647</td>\n",
              "      <td>Chile</td>\n",
              "      <td>5.6</td>\n",
              "    </tr>\n",
              "    <tr>\n",
              "      <th>421</th>\n",
              "      <td>us1000683b</td>\n",
              "      <td>2016</td>\n",
              "      <td>7</td>\n",
              "      <td>28</td>\n",
              "      <td>-16.8242</td>\n",
              "      <td>-172.5158</td>\n",
              "      <td>Tonga</td>\n",
              "      <td>5.1</td>\n",
              "    </tr>\n",
              "    <tr>\n",
              "      <th>632</th>\n",
              "      <td>us100068b1</td>\n",
              "      <td>2016</td>\n",
              "      <td>7</td>\n",
              "      <td>29</td>\n",
              "      <td>0.0756</td>\n",
              "      <td>123.4162</td>\n",
              "      <td>Indonesia</td>\n",
              "      <td>5.4</td>\n",
              "    </tr>\n",
              "    <tr>\n",
              "      <th>799</th>\n",
              "      <td>us100068jg</td>\n",
              "      <td>2016</td>\n",
              "      <td>7</td>\n",
              "      <td>29</td>\n",
              "      <td>18.5439</td>\n",
              "      <td>145.5410</td>\n",
              "      <td>Northern Mariana Islands</td>\n",
              "      <td>7.7</td>\n",
              "    </tr>\n",
              "    <tr>\n",
              "      <th>835</th>\n",
              "      <td>us100068n4</td>\n",
              "      <td>2016</td>\n",
              "      <td>7</td>\n",
              "      <td>29</td>\n",
              "      <td>-20.7929</td>\n",
              "      <td>169.9542</td>\n",
              "      <td>Vanuatu</td>\n",
              "      <td>5.2</td>\n",
              "    </tr>\n",
              "    <tr>\n",
              "      <th>...</th>\n",
              "      <td>...</td>\n",
              "      <td>...</td>\n",
              "      <td>...</td>\n",
              "      <td>...</td>\n",
              "      <td>...</td>\n",
              "      <td>...</td>\n",
              "      <td>...</td>\n",
              "      <td>...</td>\n",
              "    </tr>\n",
              "    <tr>\n",
              "      <th>7916</th>\n",
              "      <td>us10006g7d</td>\n",
              "      <td>2016</td>\n",
              "      <td>8</td>\n",
              "      <td>23</td>\n",
              "      <td>42.7140</td>\n",
              "      <td>13.1719</td>\n",
              "      <td>Italy</td>\n",
              "      <td>6.2</td>\n",
              "    </tr>\n",
              "    <tr>\n",
              "      <th>7926</th>\n",
              "      <td>us10006g7w</td>\n",
              "      <td>2016</td>\n",
              "      <td>8</td>\n",
              "      <td>23</td>\n",
              "      <td>42.8223</td>\n",
              "      <td>13.1257</td>\n",
              "      <td>Italy</td>\n",
              "      <td>5.5</td>\n",
              "    </tr>\n",
              "    <tr>\n",
              "      <th>8002</th>\n",
              "      <td>us10006gbf</td>\n",
              "      <td>2016</td>\n",
              "      <td>8</td>\n",
              "      <td>24</td>\n",
              "      <td>20.9192</td>\n",
              "      <td>94.5789</td>\n",
              "      <td>Burma</td>\n",
              "      <td>6.8</td>\n",
              "    </tr>\n",
              "    <tr>\n",
              "      <th>8029</th>\n",
              "      <td>us10006gf0</td>\n",
              "      <td>2016</td>\n",
              "      <td>8</td>\n",
              "      <td>24</td>\n",
              "      <td>-2.9567</td>\n",
              "      <td>100.0549</td>\n",
              "      <td>Indonesia</td>\n",
              "      <td>5.8</td>\n",
              "    </tr>\n",
              "    <tr>\n",
              "      <th>8303</th>\n",
              "      <td>us20006ty8</td>\n",
              "      <td>2016</td>\n",
              "      <td>8</td>\n",
              "      <td>25</td>\n",
              "      <td>30.6151</td>\n",
              "      <td>137.8462</td>\n",
              "      <td>Japan region</td>\n",
              "      <td>5.9</td>\n",
              "    </tr>\n",
              "  </tbody>\n",
              "</table>\n",
              "<p>87 rows × 8 columns</p>\n",
              "</div>"
            ],
            "text/plain": [
              "              id  year  month  ...  longitude                      name  magnitude\n",
              "30    us20006i18  2016      7  ...   -67.8647                     Chile        5.6\n",
              "421   us1000683b  2016      7  ...  -172.5158                     Tonga        5.1\n",
              "632   us100068b1  2016      7  ...   123.4162                 Indonesia        5.4\n",
              "799   us100068jg  2016      7  ...   145.5410  Northern Mariana Islands        7.7\n",
              "835   us100068n4  2016      7  ...   169.9542                   Vanuatu        5.2\n",
              "...          ...   ...    ...  ...        ...                       ...        ...\n",
              "7916  us10006g7d  2016      8  ...    13.1719                     Italy        6.2\n",
              "7926  us10006g7w  2016      8  ...    13.1257                     Italy        5.5\n",
              "8002  us10006gbf  2016      8  ...    94.5789                     Burma        6.8\n",
              "8029  us10006gf0  2016      8  ...   100.0549                 Indonesia        5.8\n",
              "8303  us20006ty8  2016      8  ...   137.8462              Japan region        5.9\n",
              "\n",
              "[87 rows x 8 columns]"
            ]
          },
          "metadata": {
            "tags": []
          },
          "execution_count": 77
        }
      ]
    }
  ]
}