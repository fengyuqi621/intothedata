{
  "nbformat": 4,
  "nbformat_minor": 0,
  "metadata": {
    "colab": {
      "name": "Section 7 - Solutions.ipynb",
      "provenance": [],
      "collapsed_sections": [],
      "include_colab_link": true
    },
    "kernelspec": {
      "name": "python3",
      "display_name": "Python 3"
    }
  },
  "cells": [
    {
      "cell_type": "markdown",
      "metadata": {
        "id": "view-in-github",
        "colab_type": "text"
      },
      "source": [
        "<a href=\"https://colab.research.google.com/github/fengyuqi621/intothedata/blob/master/Section_7_Solutions.ipynb\" target=\"_parent\"><img src=\"https://colab.research.google.com/assets/colab-badge.svg\" alt=\"Open In Colab\"/></a>"
      ]
    },
    {
      "cell_type": "markdown",
      "metadata": {
        "id": "sP0lkd-l6ZqH"
      },
      "source": [
        "# Jupyter Notebook\n",
        "\n",
        "This is a Jupyter Notebook, which is a basically just a super fancy Python shell.\n",
        "\n",
        "You may have \"cells\" that can either be text (like this one) or executable Python code. Notebooks are really nice because they allow you to rapidly develop Python code by writing small bits of code, testing their output, and moving on to the next bit; this interactive nature of the notebook is a huge plus to professional Python developers. \n",
        "\n",
        "It's also nice, because it's really easy to share your code with others and surround it with text to tell a story! \n",
        "\n",
        "# Colaboratory\n",
        "Colaboratory is a service provided by Google to take a Jupyter Notebook (a standard formay of a `.ipynb` file) and let users edit/run the code in the notebook for free! \n",
        "\n",
        "This notebook is write-protected so you are not able to edit the  notebook that the whole class will look at, but you are able to open up the notebook in \"playground mode\" which lets you make edits to a temporary copy of the notebook. If you want to save the changes you made to this notebook, you will have to follow the instructions when you try to save to copy the notebook to your Google Drive. \n",
        "\n",
        "# Setup\n",
        "Make sure you run the following cell(s) before trying to run any the following cells. You do not need to understand what they are doing, it's just a way to make sure there is a file we want to use stored on the computer running this notebook.\n"
      ]
    },
    {
      "cell_type": "code",
      "metadata": {
        "id": "wZ3KL0H_DGS1"
      },
      "source": [
        "# This takes a little while to run unfortunately\n",
        "!curl -L http://download.osgeo.org/libspatialindex/spatialindex-src-1.8.5.tar.gz 2>/dev/null | tar xz\n",
        "!apt-get install -qq g++ make\n",
        "import os\n",
        "os.chdir('/content/spatialindex-src-1.8.5')\n",
        "!./configure 2>&1 >/dev/null && make 2>&1 >/dev/null && make install && ldconfig\n",
        "!pip install -q rtree"
      ],
      "execution_count": null,
      "outputs": []
    },
    {
      "cell_type": "code",
      "metadata": {
        "id": "xIXl9KBOxVKE"
      },
      "source": [
        "import requests\n",
        "import zipfile\n",
        "\n",
        "\n",
        "def save_file(url, file_name):\n",
        "  r = requests.get(url)\n",
        "  with open(file_name, 'wb') as f:\n",
        "    f.write(r.content)\n",
        "\n",
        "    \n",
        "save_file('https://courses.cs.washington.edu/courses/cse163/19sp/' +\n",
        "          'files/lectures/05-13/data.zip', 'data.zip')\n",
        "save_file('https://courses.cs.washington.edu/courses/cse163/19sp/' +\n",
        "          'files/lectures/05-13/gz_2010_us_040_00_5m.json', \n",
        "          'gz_2010_us_040_00_5m.json')\n",
        "save_file('https://courses.cs.washington.edu/courses/cse163/19sp/' +\n",
        "          'files/lectures/05-13/stormhistory.csv', 'stormhistory.csv')\n",
        "\n",
        "with zipfile.ZipFile(\"data.zip\",\"r\") as zip_ref:\n",
        "    zip_ref.extractall()\n",
        "    \n",
        "!pip install --upgrade geopandas\n",
        "!pip install --upgrade pyshp\n",
        "!pip install --upgrade shapely\n",
        "!pip install --upgrade descartes"
      ],
      "execution_count": null,
      "outputs": []
    },
    {
      "cell_type": "code",
      "metadata": {
        "id": "m8RNwjl6WGQE"
      },
      "source": [
        "%matplotlib inline\n",
        "import pandas as pd\n",
        "import geopandas\n",
        "import matplotlib.pyplot as plt"
      ],
      "execution_count": null,
      "outputs": []
    },
    {
      "cell_type": "markdown",
      "metadata": {
        "id": "Lt9pK1oKWKJ2"
      },
      "source": [
        "# Dissolve\n",
        "The first two cells are just review from Wednesday to plot information about the world in the `countries` dataset."
      ]
    },
    {
      "cell_type": "code",
      "metadata": {
        "id": "91wzCWIyWJaQ"
      },
      "source": [
        "countries = geopandas.read_file('data/ne_110m_admin_0_countries.shp')"
      ],
      "execution_count": null,
      "outputs": []
    },
    {
      "cell_type": "code",
      "metadata": {
        "id": "0z5JQa-gWRvg"
      },
      "source": [
        "countries.plot(column='POP_EST', figsize=(15, 7), legend=True)"
      ],
      "execution_count": null,
      "outputs": []
    },
    {
      "cell_type": "markdown",
      "metadata": {
        "id": "EYyrS_zk1qAH"
      },
      "source": [
        "When we first learned `pandas`, we learned about the `groupby` operation. `geopandas` provides a similar function called `dissolve`. It is basically the same as groupby for the non-geometry column, but will combine all the geometries by overlapping them. One annoying thing about `dissolve` is that it operates on all columns, we we first have to make a smaller `GeoDataFrame` that only has the columns we want to group by or aggregate. "
      ]
    },
    {
      "cell_type": "code",
      "metadata": {
        "id": "zXRmaO6Zb2l1"
      },
      "source": [
        "populations = countries[['CONTINENT', 'POP_EST', 'geometry']]"
      ],
      "execution_count": null,
      "outputs": []
    },
    {
      "cell_type": "code",
      "metadata": {
        "id": "CbsAcp98b_3y"
      },
      "source": [
        "popluation_by_continent = populations.dissolve(by='CONTINENT', aggfunc='sum')\n",
        "popluation_by_continent.plot(column='POP_EST', legend=True, figsize=(10, 5))"
      ],
      "execution_count": null,
      "outputs": []
    },
    {
      "cell_type": "markdown",
      "metadata": {
        "id": "JENn-mHzEZXS"
      },
      "source": [
        "# Section Problems\n",
        "\n",
        "## Problem 1) `highlight_population`\n",
        "Write a function named `highlight_population` that takes the countries `GeoDataFrame` and the name of a continent and makes a plot like we did in lecture that colors the population of the countries in the continent. Instead of plotting the raw population numbers, you should plot the percentage of the population of that continent that lives there. To do this, you are allowed to add a new column to the dataset called `pop_ratio`.\n",
        "\n",
        "The plot should show all countries outside of the content as grey (color being #EEEEEE and edgecolor #FFFFFF). The plot should include a legend. The legend should be scaled so the minimum value is 0 (`vmin=0`) and the maximum value is 1 (`vmax=1`)."
      ]
    },
    {
      "cell_type": "code",
      "metadata": {
        "id": "sfjQAhi8E3xl"
      },
      "source": [
        "# Solution\n",
        "def highlight_population(countries, continent):\n",
        "  countries_in_continent = countries[countries['CONTINENT'] == continent]\n",
        "  fig, ax = plt.subplots(1, figsize=(15, 10))\n",
        "  \n",
        "  total_pop = countries_in_continent['POP_EST'].sum()\n",
        "  countries_in_continent['pop_ratio'] = countries_in_continent['POP_EST'] \\\n",
        "    / total_pop\n",
        "    \n",
        "  countries.plot(ax=ax, color='#EEEEEE', edgecolor='#FFFFFF')\n",
        "  countries_in_continent.plot(ax=ax, column='pop_ratio', legend=True,\n",
        "                              vmin=0, vmax=1)\n",
        "  fig.show()\n",
        "  "
      ],
      "execution_count": null,
      "outputs": []
    },
    {
      "cell_type": "code",
      "metadata": {
        "id": "UQhTbnnhF6jc"
      },
      "source": [
        "highlight_population(countries, 'Africa')"
      ],
      "execution_count": null,
      "outputs": []
    },
    {
      "cell_type": "markdown",
      "metadata": {
        "id": "4Zd-GmXFGXp6"
      },
      "source": [
        "## Problem 2) gdp_and_population_ratio\n",
        "Write a function named `gdp_and_population_ratio` that takes the countries `GeoDataFrame` and makes a plot with two subplots. The first subplot should show ratio of the population that lives in each countriy as the color. The second subplot should show the ratio of the world GDP that each country has. To do this, you are allowed to add a new columns to the dataset called `pop_ratio` and `gdp_ratio`.\n",
        "\n",
        "The plot should include a legend. The legend should be scaled so the minimum value is 0 (`vmin=0`) and the maximum value is 1 (`vmax=1`)."
      ]
    },
    {
      "cell_type": "code",
      "metadata": {
        "id": "Gy9Oy1sZG3gH"
      },
      "source": [
        "# Solution\n",
        "def gdp_and_population_ratio(countries):\n",
        "  total_pop = countries['POP_EST'].sum()\n",
        "  total_gdp = countries['GDP_MD_EST'].sum()\n",
        "  countries['pop_ratio'] = countries['POP_EST'] / total_pop\n",
        "  countries['gdp_ratio'] = countries['GDP_MD_EST'] / total_gdp\n",
        "\n",
        "  fig, [ax1, ax2] = plt.subplots(2, figsize=(15, 10))\n",
        "\n",
        "  countries.plot(ax=ax1, column='pop_ratio', legend=True, vmin=0, vmax=1)\n",
        "  countries.plot(ax=ax2, column='gdp_ratio', legend=True, vmin=0, vmax=1)\n",
        "\n",
        "  fig.show()"
      ],
      "execution_count": null,
      "outputs": []
    },
    {
      "cell_type": "code",
      "metadata": {
        "id": "dFV7Z1qiHXio"
      },
      "source": [
        "gdp_and_population_ratio(countries)"
      ],
      "execution_count": null,
      "outputs": []
    }
  ]
}