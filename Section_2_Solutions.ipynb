{
  "nbformat": 4,
  "nbformat_minor": 0,
  "metadata": {
    "colab": {
      "name": "Section-2-Solutions.ipynb",
      "provenance": [],
      "collapsed_sections": [],
      "toc_visible": true,
      "include_colab_link": true
    },
    "kernelspec": {
      "name": "python3",
      "display_name": "Python 3"
    }
  },
  "cells": [
    {
      "cell_type": "markdown",
      "metadata": {
        "id": "view-in-github",
        "colab_type": "text"
      },
      "source": [
        "<a href=\"https://colab.research.google.com/github/fengyuqi621/intothedata/blob/master/Section_2_Solutions.ipynb\" target=\"_parent\"><img src=\"https://colab.research.google.com/assets/colab-badge.svg\" alt=\"Open In Colab\"/></a>"
      ]
    },
    {
      "cell_type": "markdown",
      "metadata": {
        "id": "lFcSaPhRRN7V"
      },
      "source": [
        "\n",
        "In Colaboratory, you cannot make permanent changes to this notebook without making a copy to your Google Drive. **Closing the page without copying the notebook to your drive will result in all of your changes being lost.**\n",
        "\n",
        "This week we will focus on doing questions that analyze the csv file section2data.csv. This file contains three columns and contains the answer to the \"Just for fun questions\" that you answered in the starting survey. We also provided you with a smaller file called section2data-truncated.csv which contains a subset of the data from section2data.csv for testing purposes.\n",
        "\n",
        "\n",
        "| number| countries visited | low temperature  | high temperature| ideal weather condition |\n",
        "|--------------|-----------------------------|---------------------------|------------------------------|----------------------------------------|\n",
        "| 1            | 2                              |  50                       | 60                            |Sunny                                 | \n",
        "\n",
        "\n",
        "# Format \n",
        "\n",
        "This document consists of three different parts. The first part lists important functions to call in order to complete testing and parse the file. \n",
        "\n",
        "The next two parts contain problems. \n",
        "\n",
        "Manual problems are problems that are meant to be done by hand using the data structure produced from the parse function. Pandas problems are problems that you do assuming you get passed in a pandas `Dataframe` and using pandas functions. The problems in the manual and pandas sections are the same problems, they just have different restrictions for when you complete the problems. "
      ]
    },
    {
      "cell_type": "markdown",
      "metadata": {
        "id": "A9Icn1nbZP7j"
      },
      "source": [
        "# Practice Problems Important functions\n",
        "\n",
        "Reminder: for each of the following problems, there will be a blank cell for you to write the solution and a cell that calls your solution to test if it works. You should use those test cells to see examples of what the function should return for a particular input (the first value passed to `assert_equals` is the expected value). You will have to make sure to run the cell with a solution to your problem BEFORE you run the test cells (otherwise your function won't be defined). \n",
        "\n",
        "For all of these problems, you may assume we will only pass parameters of the specified type and they are not `None`, but otherwise, you should make no assumptions about the parameters\n",
        "\n",
        "**Important:** Please make sure that you have run the following cells before running any of the test cells.\n",
        "\n",
        "`check_approx_equals` allows you to check floats. "
      ]
    },
    {
      "cell_type": "markdown",
      "metadata": {
        "id": "bjVhWDED0zLA"
      },
      "source": [
        "You will also need to upload our starter text file section2data.csv by running the following cell."
      ]
    },
    {
      "cell_type": "code",
      "metadata": {
        "id": "e2F1kw-0aclk"
      },
      "source": [
        "import requests\n",
        "\n",
        "def save_file(url, file_name):\n",
        "  r = requests.get(url)\n",
        "  with open(file_name, 'wb') as f:\n",
        "    f.write(r.content)\n",
        "\n",
        "save_file('https://courses.cs.washington.edu/courses/cse163/20wi/files/section/'\n",
        "          + 'section02/section2data.csv', 'section2data.csv')\n",
        "save_file('https://courses.cs.washington.edu/courses/cse163/20wi/files/section/'\n",
        "          + 'section02/section2data-truncated.csv', 'section2data-truncated.csv')\n",
        "save_file('https://courses.cs.washington.edu/courses/cse163/20wi/files/section/'\n",
        "          + 'section02/cse163_utils.py', 'cse163_utils.py')"
      ],
      "execution_count": null,
      "outputs": []
    },
    {
      "cell_type": "markdown",
      "metadata": {
        "id": "3OJgxq5WTJpR"
      },
      "source": [
        "After running the cell above, run the one below to import the necessary libraries."
      ]
    },
    {
      "cell_type": "code",
      "metadata": {
        "id": "0qZzYAhC1FxB"
      },
      "source": [
        "import math\n",
        "\n",
        "import pandas as pd\n",
        "import requests\n",
        "\n",
        "from cse163_utils import assert_equals, parse"
      ],
      "execution_count": null,
      "outputs": []
    },
    {
      "cell_type": "code",
      "metadata": {
        "id": "IJ__SUv5If3W"
      },
      "source": [
        "parsed_entire_file = parse('section2data.csv')\n",
        "parsed_truncated_file = parse('section2data-truncated.csv')"
      ],
      "execution_count": null,
      "outputs": []
    },
    {
      "cell_type": "code",
      "metadata": {
        "id": "2y62Sa3uD8BI"
      },
      "source": [
        "print(parsed_truncated_file)"
      ],
      "execution_count": null,
      "outputs": []
    },
    {
      "cell_type": "markdown",
      "metadata": {
        "id": "bg42I55n2Us4"
      },
      "source": [
        "# Manual Processing Problems\n",
        "\n",
        "For each of these problems, use the data from the file you parsed using the provided parse function and create solutions manually (as in do not use libraries like pandas)."
      ]
    },
    {
      "cell_type": "markdown",
      "metadata": {
        "id": "a02fx8-Sy27w"
      },
      "source": [
        "# Problem 1) `weather_count`\n",
        "\n",
        "Write a function called `weather_count` that takes in an ideal weather condition and the parsed weather data and returns the number of people who prefer this weather condition. "
      ]
    },
    {
      "cell_type": "code",
      "metadata": {
        "id": "rsRO4aZLy61g"
      },
      "source": [
        "# Type your solution here\n",
        "def weather_count(data, weather_condition):\n",
        "  weather_count = 0\n",
        "  for line in data: \n",
        "    if line[\"ideal weather condition\"] == weather_condition:\n",
        "      weather_count += 1\n",
        "  return weather_count"
      ],
      "execution_count": null,
      "outputs": []
    },
    {
      "cell_type": "code",
      "metadata": {
        "id": "WSsiNWLozMv4"
      },
      "source": [
        "assert_equals(2, weather_count(parsed_truncated_file, 'Rain'))\n",
        "assert_equals(1, weather_count(parsed_truncated_file,'Cloudy'))"
      ],
      "execution_count": null,
      "outputs": []
    },
    {
      "cell_type": "markdown",
      "metadata": {
        "id": "WEvlI816zOMk"
      },
      "source": [
        "# Problem 2) `temperature_range`\n",
        "\n",
        "Write a function called `temperature_range` that takes in the parsed student data, a `low` temperature (inclusive) and a `high` temperature (exclusive) and returns the number of students that prefer temperatures within that range. These temperatures are in Farenheit. \n",
        "\n",
        "For the dataset [{'number': 1,'countries visited': 3, 'low temperature': 50, 'high temperature': 60, 'ideal weather condition': 'Sunny'}, {'number': 2, 'countries visited': 5, 'low temperature': 30, 'high temperature': 40, 'ideal weather condition': 'Partly Cloudy'}, {'number': 3, 'countries visited':10, 'low temperature': 0, 'high temperature': 30, 'ideal weather condition': 'Rainy'}] if you called `temperature_range`(parsed_truncated_file, 0, 31) we would return 1 because only the third piece of data has both a low and high temperature value that are in between the high and low input into the function. \n",
        "\n"
      ]
    },
    {
      "cell_type": "code",
      "metadata": {
        "id": "b3pjQPmdzcrq"
      },
      "source": [
        "# Type your solution here\n",
        "def temperature_range(data, low, high):\n",
        "  temperature_count = 0; \n",
        "  for line in data: \n",
        "    row_low = line['low temperature'] \n",
        "    row_high = line['high temperature']\n",
        "    if row_low >= low and row_high < high:\n",
        "      temperature_count += 1\n",
        "  return temperature_count\n"
      ],
      "execution_count": null,
      "outputs": []
    },
    {
      "cell_type": "code",
      "metadata": {
        "id": "nXf-Gl_EzcU3"
      },
      "source": [
        "assert_equals(2, temperature_range(parsed_truncated_file, 50, 70))"
      ],
      "execution_count": null,
      "outputs": []
    },
    {
      "cell_type": "markdown",
      "metadata": {
        "id": "QENDh5pjZ7Jp"
      },
      "source": [
        "# Problem 3) `max_countries_visited`\n",
        "\n",
        "Write a function called `max_countries_visited` that takes in the `data` that finds the max number of countries visited by someone in the class and returns a tuple containing that person's number in the dataset and the number of countries they have visited.\n",
        "\n",
        "If there is a tie between multiple students on the maximum number of countries visited, this function will return the student that appeared first in the dataset. "
      ]
    },
    {
      "cell_type": "code",
      "metadata": {
        "id": "oxsGZ2VxaRcY"
      },
      "source": [
        "# Type your solution here\n",
        "def max_countries_visited(data):\n",
        "  student_number = 0; \n",
        "  max_visited_countries = 0; \n",
        "  for line in data: \n",
        "    if line['countries visited'] > max_visited_countries:\n",
        "      student_number = line['number']\n",
        "      max_visited_countries = line['countries visited']\n",
        "  return student_number, max_visited_countries\n",
        "                          \n",
        "                                "
      ],
      "execution_count": null,
      "outputs": []
    },
    {
      "cell_type": "code",
      "metadata": {
        "id": "QtFJj0HnaUfq"
      },
      "source": [
        "assert_equals((2, 13), max_countries_visited(parsed_truncated_file))"
      ],
      "execution_count": null,
      "outputs": []
    },
    {
      "cell_type": "markdown",
      "metadata": {
        "id": "EFemPAgLvBNA"
      },
      "source": [
        "# Problem 4) `unique_weather_combinations`\n",
        "\n",
        "Write a function called `unique_weather_combinations` that takes in the parsed weather `data` returns the number of unique combinations of ideal weather type and low temperature that individuals in our class listed. \n",
        "\n"
      ]
    },
    {
      "cell_type": "code",
      "metadata": {
        "id": "TqcB6PqpvKEt"
      },
      "source": [
        "# Type your solution here\n",
        "def unique_weather_combinations(data):\n",
        "  weather_conditions_set = set()\n",
        "  for line in data: \n",
        "    weather_condition = str(line['low temperature']) + \" \" \\\n",
        "      + line['ideal weather condition']\n",
        "    weather_conditions_set.add(weather_condition)\n",
        "  return len(weather_conditions_set)\n"
      ],
      "execution_count": null,
      "outputs": []
    },
    {
      "cell_type": "code",
      "metadata": {
        "id": "mAnJ3BdsvNX4"
      },
      "source": [
        "assert_equals(9, unique_weather_combinations(parsed_truncated_file));"
      ],
      "execution_count": null,
      "outputs": []
    },
    {
      "cell_type": "markdown",
      "metadata": {
        "id": "2INo4F6TwDy4"
      },
      "source": [
        "# Problem 5) `average_countries_visited`\n",
        "\n",
        "Write a function called `average_countries_visited` that takes in the parsed `data` and returns the average number of countries visited in the dataset. "
      ]
    },
    {
      "cell_type": "code",
      "metadata": {
        "id": "PhiRm84a9DcM"
      },
      "source": [
        "# Type your code here\n",
        "def average_countries_visited(data):\n",
        "  count = 0 \n",
        "  sum = 0 \n",
        "  for line in data: \n",
        "    count += 1\n",
        "    sum += line['countries visited']\n",
        "  return sum / count;"
      ],
      "execution_count": null,
      "outputs": []
    },
    {
      "cell_type": "code",
      "metadata": {
        "id": "RoBm0GFa9gUd"
      },
      "source": [
        "assert_equals(5.55, average_countries_visited(parsed_truncated_file))"
      ],
      "execution_count": null,
      "outputs": []
    },
    {
      "cell_type": "markdown",
      "metadata": {
        "id": "ZfbgR73vU4bM"
      },
      "source": [
        "# Problem 6) `average_countries_visited_per_weather_type`\n",
        "\n",
        "Write a function called `average_countries_visited_per_weather_type` that takes in the parsed `data` and  returns a dictionary that has the average number of countries visited for each preferred weather type (ie Sunny, Cloudy, etc)\n",
        "\n",
        "**Note**: We are not being thorough with this problem. In actual testing we would encourage you to make a small dataset that you know the expected result from and test the function on that file. "
      ]
    },
    {
      "cell_type": "code",
      "metadata": {
        "id": "egz8K5EsVRbw"
      },
      "source": [
        "# Type your code here\n",
        "def average_countries_visited_per_weather_type(data):\n",
        "  counts_dictionary = dict()\n",
        "  sum_dictionary = dict()\n",
        "  for line in data: \n",
        "    weather_type = line['ideal weather condition']\n",
        "    if weather_type in counts_dictionary: \n",
        "      counts_dictionary[weather_type] += 1\n",
        "      sum_dictionary[weather_type] += line['countries visited']\n",
        "    else: \n",
        "      counts_dictionary[weather_type] = 1\n",
        "      sum_dictionary[weather_type] = line['countries visited']\n",
        "  average_dictionary = dict()\n",
        "  for weather_condition in counts_dictionary:\n",
        "    average_dictionary[weather_condition] \\\n",
        "      = sum_dictionary[weather_condition] / counts_dictionary[weather_condition]\n",
        "  return average_dictionary\n",
        "    "
      ],
      "execution_count": null,
      "outputs": []
    },
    {
      "cell_type": "code",
      "metadata": {
        "id": "yeq6qxguVUpo"
      },
      "source": [
        "#testing statements \n",
        "print(average_countries_visited_per_weather_type(parsed_truncated_file))"
      ],
      "execution_count": null,
      "outputs": []
    },
    {
      "cell_type": "markdown",
      "metadata": {
        "id": "1KzNKCHt22vb"
      },
      "source": [
        "# Pandas Problems\n",
        "\n",
        "For each of these problems, use the data from the file you parsed and create solutions using the pandas library. For a reference to the library click [here](https://colab.research.google.com/drive/1fsW0sTvsMcD79eM4st1fBJgnXiCPU41T#scrollTo=VPFCCiumej8-&forceEdit=true&offline=true&sandboxMode=true)"
      ]
    },
    {
      "cell_type": "markdown",
      "metadata": {
        "id": "yd0tSpGBPbQy"
      },
      "source": [
        "Word bank: \n",
        "\n",
        "*   Get a column of a `DataFrame`: `data[<column name>]`\n",
        "*   More general way to get data from a `DataFrame`: `data.loc[<row indexer>, <column indexer>]`\n",
        "*    Filtering: `data[<boolean series mask>]`, can combine multiple boolean series masks using `&`(and), `|`(or), and `~`(not)\n",
        "*     Loop over Series\n",
        "*     `min`: calculates the minimum value of the `Series`\n",
        "*     `max`: calculates the maximum value of the `Series`\n",
        "*     `idxmin`: calculates the index of the minimum value of the `Series`\n",
        "*     `idxmax`: calculates the index of the maximum value of the `Series`\n",
        "*      `count`: calculates the numer values in the `Series`\n",
        "*      `mean`: calculates the average value of the `Series`\n",
        "*      `unique`: returns a new `Series` with all the unique values from the `Series`\n",
        "*     `groupby`\n",
        "\n",
        "\n",
        "\n"
      ]
    },
    {
      "cell_type": "markdown",
      "metadata": {
        "id": "x2a_SRSoe_ni"
      },
      "source": [
        "Note: in pandas we parse our data differently and the object we will be processing is a pandas `Dataframe` instead of a list of dictionaries. Run the cell below to get the data in a form compatible with pandas"
      ]
    },
    {
      "cell_type": "code",
      "metadata": {
        "id": "SbMTBTkNp-Dg"
      },
      "source": [
        "pandas_truncated_data = pd.read_csv('section2data-truncated.csv')\n",
        "pandas_data = pd.read_csv('section2data.csv')"
      ],
      "execution_count": null,
      "outputs": []
    },
    {
      "cell_type": "markdown",
      "metadata": {
        "id": "sQaQMNMMwLHq"
      },
      "source": [
        "# Problem 1) `weather_count_pandas`\n",
        "\n",
        "Write a function called `weather_count_pandas` that takes in an ideal weather condition and a pandas `Dataframe` of the weather `data` and returns the number of people who prefer this weather condition. "
      ]
    },
    {
      "cell_type": "code",
      "metadata": {
        "id": "3tursQO1wiRv"
      },
      "source": [
        "# Type your solution here\n",
        "def weather_count_pandas(data, weather_condition):\n",
        "  return len(data[(data['ideal weather condition'] == weather_condition)])\n"
      ],
      "execution_count": null,
      "outputs": []
    },
    {
      "cell_type": "code",
      "metadata": {
        "id": "06NtvIxbwv2n"
      },
      "source": [
        "assert_equals(2, weather_count_pandas(pandas_truncated_data, 'Rain'))\n",
        "assert_equals(1, weather_count_pandas(pandas_truncated_data,'Cloudy'))"
      ],
      "execution_count": null,
      "outputs": []
    },
    {
      "cell_type": "code",
      "metadata": {
        "id": "U_i7YJkz0VZz"
      },
      "source": [
        ""
      ],
      "execution_count": null,
      "outputs": []
    },
    {
      "cell_type": "markdown",
      "metadata": {
        "id": "oy8--VR9wqhZ"
      },
      "source": [
        "# Problem 2) `temperature_range_pandas`\n",
        "\n",
        "Write a function called `temperature_range_pandas` that takes in a pandas `Dataframe` of the weather `data`,  a `low` temperature (inclusive), and a `high` temperature (exclusive) and returns the number of students that prefer temperatures within that range. These temperatures are in Farenheit. \n",
        "\n",
        "For the dataset [{'number': 1,'countries visited': 3, 'low temperature': 50, 'high temperature': 60, 'ideal weather condition': 'Sunny'}, {'number': 2, 'countries visited': 5, 'low temperature': 30, 'high temperature': 40, 'ideal weather condition': 'Partly Cloudy'}, {'number': 3, 'countries visited':10, 'low temperature': 0, 'high temperature': 30, 'ideal weather condition': 'Rainy'}] if you called `temperature_range_pandas`(parsed_truncated_file, 0, 31) we would return 1 because only the third piece of data has both a low and high temperature value that are in between the high and low input into the function. \n",
        "\n"
      ]
    },
    {
      "cell_type": "code",
      "metadata": {
        "id": "BrRe1ZUIWIJ6"
      },
      "source": [
        "# Type your solution here hello there \n",
        "def temperature_range_pandas(data, low, high):\n",
        "  filtered = data[(data['low temperature'] >= low) \n",
        "                  & (data['high temperature'] < high)]\n",
        "  return len(filtered);"
      ],
      "execution_count": null,
      "outputs": []
    },
    {
      "cell_type": "code",
      "metadata": {
        "id": "XhCsvIxFWUOW"
      },
      "source": [
        "assert_equals(2, temperature_range_pandas(pandas_truncated_data, 50, 70))"
      ],
      "execution_count": null,
      "outputs": []
    },
    {
      "cell_type": "markdown",
      "metadata": {
        "id": "Pm8NTV_uxUB2"
      },
      "source": [
        "# Problem 3) `max_countries_visited_pandas`\n",
        "\n",
        "Write a function called `max_countries_visited_pandas` that takes in the pandas `Dataframe` of the weather `data` that finds the max number of countries visited by someone in the class and returns a tuple containing that person's number in the dataset and the number of countries they have visited."
      ]
    },
    {
      "cell_type": "code",
      "metadata": {
        "id": "CVL7VklJxap7"
      },
      "source": [
        "# Type your solution here\n",
        "def max_countries_visited_pandas(data):\n",
        "  val = data.loc[data['countries visited'].idxmax()]\n",
        "  return val['number'], val['countries visited']"
      ],
      "execution_count": null,
      "outputs": []
    },
    {
      "cell_type": "code",
      "metadata": {
        "id": "Kkp7m-Sqy040"
      },
      "source": [
        "assert_equals((2, 13), max_countries_visited_pandas(pandas_truncated_data))"
      ],
      "execution_count": null,
      "outputs": []
    },
    {
      "cell_type": "markdown",
      "metadata": {
        "id": "S0zj8okZ25m5"
      },
      "source": [
        "# Problem 4) `unique_weather_combinations_pandas`\n",
        "\n",
        "Write a function called `unique_weather_conditions_pandas` that takes in a pandas `Dataframe` of the weather `data` returns the number of unique combinations of ideal weather type and low temperature in the dataset. \n",
        "\n",
        "You can use the `astype` function on a `Series` to convert the values to a different type. For example, to turn high temperature into a `float`:\n",
        "\n",
        "```python\n",
        "data['high temperature'].astype(float)\n",
        "```"
      ]
    },
    {
      "cell_type": "code",
      "metadata": {
        "id": "GUyrtoJ_3Ag7"
      },
      "source": [
        "# Type your solution here\n",
        "def unique_weather_combinations_pandas(data):\n",
        "  combinations = data['low temperature'].astype(str) + ' ' \\\n",
        "    + data['ideal weather condition']\n",
        "  return len(combinations.unique())"
      ],
      "execution_count": null,
      "outputs": []
    },
    {
      "cell_type": "code",
      "metadata": {
        "id": "7XfalDrp3toG"
      },
      "source": [
        "assert_equals(9, unique_weather_combinations_pandas(pandas_truncated_data));"
      ],
      "execution_count": null,
      "outputs": []
    },
    {
      "cell_type": "markdown",
      "metadata": {
        "id": "fH4iHZCi-SvP"
      },
      "source": [
        "# Problem 5) `average_countries_visited_pandas`\n",
        "\n",
        "Write a function called `average_countries_visited_pandas` that takes in a pandas `Dataframe` of the `data` and returns the average number of countries visited in the dataset. "
      ]
    },
    {
      "cell_type": "code",
      "metadata": {
        "id": "IqXgSqJ7_A1K"
      },
      "source": [
        "# Type your solution here\n",
        "def average_countries_visited_pandas(data):\n",
        "  return data['countries visited'].mean();"
      ],
      "execution_count": null,
      "outputs": []
    },
    {
      "cell_type": "code",
      "metadata": {
        "id": "m3Tce2pGA2fY"
      },
      "source": [
        "#testing here \n",
        "assert_equals(5.55, average_countries_visited_pandas(pandas_truncated_data))"
      ],
      "execution_count": null,
      "outputs": []
    },
    {
      "cell_type": "markdown",
      "metadata": {
        "id": "sYU4NnbXXPY7"
      },
      "source": [
        "# Problem 6) `average_countries_visited_per_weather_type_pandas`\n",
        "*Note: This problem is here for extra practice, but you won't be able to solve it until after Friday's lecture.*\n",
        "\n",
        "\n",
        "Write a function called `average_countries_visited_per_weather_type_pandas` that takes in a pandas `Dataframe` of the weather`data` and  returns a dictionary that has the average number of countries visited for each preferred weather type (ie Sunny, Cloudy, etc)\n",
        "\n",
        "**Note**: We are not being thorough with this problem. In actual testing we would encourage you to make a small dataset that you know the expected result from and test the function on that file. "
      ]
    },
    {
      "cell_type": "code",
      "metadata": {
        "id": "8xbJBOB4XWwK"
      },
      "source": [
        "# Type your solution here\n",
        "def average_countries_visited_per_weather_type_pandas(data):\n",
        "  return dict(data.groupby('ideal weather condition')['countries visited'].mean())"
      ],
      "execution_count": null,
      "outputs": []
    },
    {
      "cell_type": "code",
      "metadata": {
        "id": "nVdWLHjqXWeB"
      },
      "source": [
        "#testing here \n",
        "print(average_countries_visited_per_weather_type_pandas(pandas_truncated_data))"
      ],
      "execution_count": null,
      "outputs": []
    }
  ]
}