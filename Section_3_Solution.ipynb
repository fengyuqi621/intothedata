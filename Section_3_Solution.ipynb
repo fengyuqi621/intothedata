{
  "nbformat": 4,
  "nbformat_minor": 0,
  "metadata": {
    "colab": {
      "name": "Section-3-Solution.ipynb",
      "provenance": [],
      "collapsed_sections": [],
      "include_colab_link": true
    },
    "kernelspec": {
      "name": "python3",
      "display_name": "Python 3"
    }
  },
  "cells": [
    {
      "cell_type": "markdown",
      "metadata": {
        "id": "view-in-github",
        "colab_type": "text"
      },
      "source": [
        "<a href=\"https://colab.research.google.com/github/fengyuqi621/intothedata/blob/master/Section_3_Solution.ipynb\" target=\"_parent\"><img src=\"https://colab.research.google.com/assets/colab-badge.svg\" alt=\"Open In Colab\"/></a>"
      ]
    },
    {
      "cell_type": "markdown",
      "metadata": {
        "id": "rFTA5UxD9Wtw"
      },
      "source": [
        "# Setup\n",
        "\n",
        "Run the following code before working on any problem to import util functions used to test your code"
      ]
    },
    {
      "cell_type": "code",
      "metadata": {
        "id": "_qK_Lf4FbwY5"
      },
      "source": [
        "import requests\n",
        "\n",
        "def save_file(url, file_name):\n",
        "  r = requests.get(url)\n",
        "  with open(file_name, 'wb') as f:\n",
        "    f.write(r.content)\n",
        "\n",
        "save_file('https://courses.cs.washington.edu/courses/cse163/19sp/files/section/'\n",
        "          + '04-18/cancer.csv', 'cancer.csv')\n",
        "save_file('https://courses.cs.washington.edu/courses/cse163/20wi/files/section/'\n",
        "          + 'section02/cse163_utils.py', 'cse163_utils.py')"
      ],
      "execution_count": null,
      "outputs": []
    },
    {
      "cell_type": "code",
      "metadata": {
        "id": "fdqZGCH39jv5"
      },
      "source": [
        "import pandas as pd\n",
        "import seaborn as sns\n",
        "import matplotlib.pyplot as plt\n",
        "\n",
        "from cse163_utils import assert_equals, check_approx_equals"
      ],
      "execution_count": null,
      "outputs": []
    },
    {
      "cell_type": "markdown",
      "metadata": {
        "id": "E4qRJKh0Imxa"
      },
      "source": [
        "# Problem 1: Pandas Continued"
      ]
    },
    {
      "cell_type": "markdown",
      "metadata": {
        "id": "7oHmRF2zItlt"
      },
      "source": [
        "Run the following code to import data about cancer rates into a pandas dataframe called df. Node the names of the columns, as these will be useful for the functions you'll be required to write"
      ]
    },
    {
      "cell_type": "code",
      "metadata": {
        "id": "6N_2AKItItCZ"
      },
      "source": [
        "df = pd.read_csv('cancer.csv')\n",
        "\n",
        "df.head()"
      ],
      "execution_count": null,
      "outputs": []
    },
    {
      "cell_type": "markdown",
      "metadata": {
        "id": "2QfzOyDr7mKw"
      },
      "source": [
        "## Problem 1.1: `washington_rate`\n",
        "\n",
        "Write a function named `washington_rate` that accepts a Pandas dataframe and returns the complete row of data for all information about cancer deaths (Event Type = Mortality) that occurred in Washington (Area = Washington)"
      ]
    },
    {
      "cell_type": "code",
      "metadata": {
        "id": "NP8BRD039Q-B"
      },
      "source": [
        "# Type your solution here\n",
        "def washington_rate(df):\n",
        "  in_washington = df['Area'] == 'Washington'\n",
        "  death = df['Event Type'] == 'Mortality'\n",
        "  return df[in_washington & death]"
      ],
      "execution_count": null,
      "outputs": []
    },
    {
      "cell_type": "code",
      "metadata": {
        "id": "v2B1VWfZ9SuR"
      },
      "source": [
        "# Test\n",
        "wr = washington_rate(df)\n",
        "print(wr.head())\n",
        "\n",
        "assert_equals(168, len(wr))\n",
        "assert_equals(803464, wr['Count'].sum())"
      ],
      "execution_count": null,
      "outputs": []
    },
    {
      "cell_type": "markdown",
      "metadata": {
        "id": "-xnjbQwOH_I2"
      },
      "source": [
        "## Problem 1.2: `either_area_rate`\n",
        "\n",
        "Write a function `either_area_rate` that that accepts a Pandas dataframe, an area a1, and an area a2 and returns the complete row of data for all information about cancer deaths (Event Type = Mortality) that occurred in an Area equal to a1 or a2.\n",
        "\n",
        "If a2 is not specified, it should default to Washington. So, the call to `either_area_rate(df, Nevada)` would return rows with an area of Washington or Nevada.\n",
        "Note that the function should still be able to take two parameters: `either_area_rate(df, Ohio, Michigan)` should return rows in Ohio or Michigan.\n",
        "\n",
        "Note: This function will be similar to 1.1!\n"
      ]
    },
    {
      "cell_type": "code",
      "metadata": {
        "id": "luHWgoHWIZTz"
      },
      "source": [
        "# Type your solution here\n",
        "def either_area_rate(df, a1, a2='Washington'):\n",
        "  in_a1 = df['Area'] == a1\n",
        "  in_a2 = df['Area'] == a2\n",
        "  death = df['Event Type'] == 'Mortality'\n",
        "  return df[(in_a1 | in_a2) & death]"
      ],
      "execution_count": null,
      "outputs": []
    },
    {
      "cell_type": "code",
      "metadata": {
        "id": "kjfRn1AiIb09"
      },
      "source": [
        "# Test 1\n",
        "nev_col = either_area_rate(df, 'Nevada', 'Colorado')\n",
        "print(nev_col.head())\n",
        "\n",
        "assert_equals(336, len(nev_col))\n",
        "assert_equals(794626, nev_col['Count'].sum())"
      ],
      "execution_count": null,
      "outputs": []
    },
    {
      "cell_type": "code",
      "metadata": {
        "id": "oRK6rTFiGYlm"
      },
      "source": [
        "# Test 2\n",
        "ohio_wash = either_area_rate(df, 'Ohio')\n",
        "print(ohio_wash.head())\n",
        "\n",
        "assert_equals(336, len(ohio_wash))\n",
        "assert_equals(2607690, ohio_wash['Count'].sum())"
      ],
      "execution_count": null,
      "outputs": []
    },
    {
      "cell_type": "markdown",
      "metadata": {
        "id": "jSmgevRG_2gI"
      },
      "source": [
        "## Problem 1.3: `occurrences_in_pop`\n",
        "\n",
        "Write a function named `occurrences_in_pop` that accepts a Pandas dataframe, an integer representing a population minimum `m`, and a given sex ('Male', 'Female', or 'Male and Female') and returns the complete row of data for all cancer incidence (Event Type = Incidence) of the given sex for all data points with population greater than or equal to `m`. Returns None if no records exist that satisfy the given conditions."
      ]
    },
    {
      "cell_type": "code",
      "metadata": {
        "id": "irlcogBqAzRB"
      },
      "source": [
        "# Type your solution here\n",
        "def occurrences_in_pop(df, m, sex):\n",
        "  is_incidence = df['Event Type'] == 'Incidence'\n",
        "  is_sex = df['Sex'] == sex\n",
        "  above_m = df['Population'] >= m\n",
        "  filtered_df = df[is_incidence & is_sex & above_m]\n",
        "  if len(filtered_df) == 0:\n",
        "    return None\n",
        "  else:\n",
        "    return filtered_df"
      ],
      "execution_count": null,
      "outputs": []
    },
    {
      "cell_type": "code",
      "metadata": {
        "id": "3yViOYsTBWG-"
      },
      "source": [
        "# Test 1\n",
        "male_10mil = occurrences_in_pop(df, 10000000, 'Male')\n",
        "print(male_10mil.head())\n",
        "\n",
        "assert_equals(425, len(male_10mil))\n",
        "assert_equals(76938250, male_10mil['Count'].sum())"
      ],
      "execution_count": null,
      "outputs": []
    },
    {
      "cell_type": "code",
      "metadata": {
        "id": "4JDHmGtuJDam"
      },
      "source": [
        "# Test 2\n",
        "female_500k = occurrences_in_pop(df, 500000, 'Female')\n",
        "print(len(female_500k), female_500k['Count'].sum())\n",
        "print(female_500k.head())\n",
        "\n",
        "assert_equals(2422, len(female_500k))\n",
        "assert_equals(95317826, female_500k['Count'].sum())"
      ],
      "execution_count": null,
      "outputs": []
    },
    {
      "cell_type": "markdown",
      "metadata": {
        "id": "wFbMJWyxCy3g"
      },
      "source": [
        "## Problem 1.4: `deaths_per_year`\n",
        "\n",
        "Write a function named `deaths_per_year` that accepts a Pandas dataframe and returns a series with the number of cancer deaths (Event Type = Mortality) for each year between 2002 - 2008 (inclusive) for both sexes and all races.\n",
        "\n",
        "**Hint:** If you aren't getting the correct numbers, you might want to invesigate the dataset a little more closesly. Here's a block of code you can try printing out if you're stuck!\n",
        "\n",
        "```\n",
        "df.loc[[5, 32, 59]]\n",
        "```"
      ]
    },
    {
      "cell_type": "code",
      "metadata": {
        "id": "apg1AcNqJ8z1"
      },
      "source": [
        "# Type your solution here\n",
        "def deaths_per_year(df):\n",
        "  both_sexes = df['Sex'] == 'Male and Female'\n",
        "  all_races = df['Race'] == 'All Races'\n",
        "  between_years = (df['Year'] >= 2002) & (df['Year'] <= 2008)\n",
        "  is_mortality = df['Event Type'] == 'Mortality'\n",
        "  filtered_df = df[between_years & both_sexes & all_races & is_mortality]\n",
        "  return filtered_df.groupby('Year')['Count'].sum()"
      ],
      "execution_count": null,
      "outputs": []
    },
    {
      "cell_type": "code",
      "metadata": {
        "id": "amSKOptFKft9"
      },
      "source": [
        "# Test\n",
        "dpy = deaths_per_year(df)\n",
        "print(dpy)\n",
        "\n",
        "assert_equals(7, len(dpy))\n",
        "assert_equals(11746632, dpy.sum())"
      ],
      "execution_count": null,
      "outputs": []
    },
    {
      "cell_type": "markdown",
      "metadata": {
        "id": "4qsLgGNeJnRv"
      },
      "source": [
        "# Problem 2: Plotting Code"
      ]
    },
    {
      "cell_type": "markdown",
      "metadata": {
        "id": "wuOprBtDRd30"
      },
      "source": [
        "We will be using Seaborn in this section to make visualizations. As mentioned in lecture, Seaborn has great documentation, so you should take this time to read about some of the functions you might need in this class below. Feel free to look at some of the examples included in the links below to determine whether or not you might need to use the function.\n",
        "\n",
        "\n",
        "Here's some seaborn functions you might need for this section:\n",
        "\n",
        "* [Bar/Violin Plot](https://seaborn.pydata.org/generated/seaborn.catplot.html)\n",
        "* [Plot a Distribution](https://seaborn.pydata.org/generated/seaborn.kdeplot.html)\n",
        "* [Scatter/Line Plot](https://seaborn.pydata.org/generated/seaborn.relplot.html)\n",
        "* [Linear Regression Plot](https://seaborn.pydata.org/generated/seaborn.regplot.html)\n",
        "* [Compare Two Variables](https://seaborn.pydata.org/generated/seaborn.jointplot.html)\n",
        "* [Heatmap](https://seaborn.pydata.org/generated/seaborn.heatmap.html#seaborn.heatmap)\n",
        "\n",
        "\n",
        "Note: The Seaborn library has been included at the top and is in a variable named `sns`"
      ]
    },
    {
      "cell_type": "markdown",
      "metadata": {
        "id": "8aU3M3_WVrvT"
      },
      "source": [
        "## Problem 2.1: Line Chart\n",
        "\n",
        "Create a function called `plot_line` that accepts a Pandas dataframe and creates and displays a line chart using Seaborn that plots similar information to what you generated in 1.4.  \n",
        "\n",
        "You should generate a line plot, where the years are on the x axis and the count is on the y axis, of the number of cancer deaths (Event Type = Mortality) for each year between 2002 - 2008 (inclusive) for both sexes and all races *in the state of Washington*.\n",
        "\n",
        "**Please provide a descriptive title and axis labels for your generated visualization.**\n",
        "\n",
        "**NOTE:** the information you're plotting in this problem is very similar to problem 1.4, except this time you are constrained to a single area (*only* Washington). This means that you should be able to look up the exact row that corresponds to mortality counts for all races and both sexes in the state of Washington directly **without needing a groupby** (there's nothing to aggregate in this case, since you can look it up directly in the dataframe). Most of the logic for filtering the correct data will be the same as in problem 1.4, so feel free to copy over relevant parts of your solution here."
      ]
    },
    {
      "cell_type": "code",
      "metadata": {
        "id": "z4jiJh6bGAmw"
      },
      "source": [
        "# Type your solution here\n",
        "def plot_line(df):\n",
        "  both_sexes = df['Sex'] == 'Male and Female'\n",
        "  all_races = df['Race'] == 'All Races'\n",
        "  between_years = (df['Year'] >= 2002) & (df['Year'] <= 2008)\n",
        "  is_mortality = df['Event Type'] == 'Mortality'\n",
        "  in_washington = df['Area'] == 'Washington'\n",
        "  filtered_df = df[between_years & both_sexes & all_races \n",
        "                   & is_mortality & in_washington]\n",
        "  sns.relplot(x='Year', y='Count', data=filtered_df, kind='line')\n",
        "  plt.title('Cancer Death Count vs. Year')\n",
        "  plt.ylabel('Cancer Death Count')"
      ],
      "execution_count": null,
      "outputs": []
    },
    {
      "cell_type": "code",
      "metadata": {
        "id": "74_t6k4qGGDB"
      },
      "source": [
        "plot_line(df)"
      ],
      "execution_count": null,
      "outputs": []
    },
    {
      "cell_type": "markdown",
      "metadata": {
        "id": "gRPSdHrHVvcO"
      },
      "source": [
        "## Problem 2.2: Regression Plot\n",
        "\n",
        "Create a function called `plot_regression` that accepts a Pandas dataframe and crates a linear regression plot between Population and Count for cancer incidence (Event Type = Incidence).\n",
        "\n",
        "**Please provide a descriptive title and axis labels for your generated visualization.**"
      ]
    },
    {
      "cell_type": "code",
      "metadata": {
        "id": "GpD4ve36GDr5"
      },
      "source": [
        "# Type your solution here\n",
        "def plot_regression(df):\n",
        "  info = df[df['Event Type'] == 'Incidence']\n",
        "  sns.regplot(x='Population', y='Count', data=info)\n",
        "  plt.title('Cancer Death Count vs. Population')\n",
        "  plt.ylabel('Cancer Death Count')"
      ],
      "execution_count": null,
      "outputs": []
    },
    {
      "cell_type": "code",
      "metadata": {
        "id": "p36wlATI-g12"
      },
      "source": [
        "plot_regression(df)"
      ],
      "execution_count": null,
      "outputs": []
    },
    {
      "cell_type": "markdown",
      "metadata": {
        "id": "C4INijnnJpZs"
      },
      "source": [
        "# Problem 3: Discussion\n",
        "\n"
      ]
    },
    {
      "cell_type": "markdown",
      "metadata": {
        "id": "nSzQ04EzDXPk"
      },
      "source": [
        "## Problem 3.1\n",
        "Do you think a line chart is an effective visualization in problem 2.1? Explain in 1-2 sentences why or why not.\n",
        "\n",
        "\n",
        "\n",
        "\n"
      ]
    },
    {
      "cell_type": "markdown",
      "metadata": {
        "id": "m2lDW7aQC1lF"
      },
      "source": [
        "Answer:\n",
        "\n",
        "**Many answers can are accepted here. A few examples are listed below:**\n",
        "\n",
        "One reason this visualization might not be ideal is that it's only showing the count of cancer rates, but it doesn't take into account the population growth/decrease. It would be hard to make any meaningful conclusions with just the raw count if we didn't take into account any popultion change (for example, maybe the population was growing at the same rate so the cancer )\n",
        "\n",
        "Another good reason might be that the line chart's y axis is pretty constrained, so this visualization might be over-emphasizing the relative change in cancer rates."
      ]
    },
    {
      "cell_type": "markdown",
      "metadata": {
        "id": "UkkYtI0yC2ED"
      },
      "source": [
        "## Problem 3.2\n",
        "What do you think are the limitations of this dataset?"
      ]
    },
    {
      "cell_type": "markdown",
      "metadata": {
        "id": "mfjzNivbDXXE"
      },
      "source": [
        "Answer:\n",
        "\n",
        "**Many answers can are accepted here. One example is below:**\n",
        "\n",
        "This dataset only reveals the count of people who have cancer in some area/time. It might be good to have more individual data to work with here (age, job, types of habits (ie. smoking, drinking)), since it might be hard to draw any meaningful conclusions from this data about what is correlated with cancer and the cause of cancer is likely to be more than a factor of area/time\n",
        "\n"
      ]
    }
  ]
}